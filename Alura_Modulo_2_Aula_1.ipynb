{
 "cells": [
  {
   "cell_type": "markdown",
   "metadata": {
    "id": "wy_ncUgeYjfh"
   },
   "source": [
    "## Caderno de exploracao dos dados do datasus 2008 pra frente"
   ]
  },
  {
   "cell_type": "code",
   "execution_count": 15,
   "metadata": {
    "id": "87K9ISVVY1bn"
   },
   "outputs": [],
   "source": [
    "import pandas as pd"
   ]
  },
  {
   "cell_type": "code",
   "execution_count": 16,
   "metadata": {
    "colab": {
     "base_uri": "https://localhost:8080/",
     "height": 372
    },
    "id": "aUnyypSZZNII",
    "outputId": "fdb07d2c-4372-49b9-bd76-ea5db1140472"
   },
   "outputs": [
    {
     "name": "stderr",
     "output_type": "stream",
     "text": [
      "<ipython-input-16-4f23a5396325>:1: ParserWarning: Falling back to the 'python' engine because the 'c' engine does not support skipfooter; you can avoid this warning by specifying engine='python'.\n",
      "  dados = pd.read_csv(\"https://raw.githubusercontent.com/alura-cursos/agendamento-hospitalar/main/dados/A160324189_28_143_208.csv\",\n"
     ]
    },
    {
     "data": {
      "text/html": [
       "<div>\n",
       "<style scoped>\n",
       "    .dataframe tbody tr th:only-of-type {\n",
       "        vertical-align: middle;\n",
       "    }\n",
       "\n",
       "    .dataframe tbody tr th {\n",
       "        vertical-align: top;\n",
       "    }\n",
       "\n",
       "    .dataframe thead th {\n",
       "        text-align: right;\n",
       "    }\n",
       "</style>\n",
       "<table border=\"1\" class=\"dataframe\">\n",
       "  <thead>\n",
       "    <tr style=\"text-align: right;\">\n",
       "      <th></th>\n",
       "      <th>Unidade da Federação</th>\n",
       "      <th>1992/Mar</th>\n",
       "      <th>1992/Abr</th>\n",
       "      <th>1993/Mai</th>\n",
       "      <th>1993/Dez</th>\n",
       "      <th>1994/Jan</th>\n",
       "      <th>1994/Fev</th>\n",
       "      <th>1994/Mai</th>\n",
       "      <th>1994/Ago</th>\n",
       "      <th>1994/Nov</th>\n",
       "      <th>...</th>\n",
       "      <th>2019/Dez</th>\n",
       "      <th>2020/Jan</th>\n",
       "      <th>2020/Fev</th>\n",
       "      <th>2020/Mar</th>\n",
       "      <th>2020/Abr</th>\n",
       "      <th>2020/Mai</th>\n",
       "      <th>2020/Jun</th>\n",
       "      <th>2020/Jul</th>\n",
       "      <th>2020/Ago</th>\n",
       "      <th>Total</th>\n",
       "    </tr>\n",
       "  </thead>\n",
       "  <tbody>\n",
       "    <tr>\n",
       "      <th>0</th>\n",
       "      <td>11 Rondônia</td>\n",
       "      <td>-</td>\n",
       "      <td>-</td>\n",
       "      <td>-</td>\n",
       "      <td>-</td>\n",
       "      <td>-</td>\n",
       "      <td>-</td>\n",
       "      <td>-</td>\n",
       "      <td>-</td>\n",
       "      <td>-</td>\n",
       "      <td>...</td>\n",
       "      <td>8660753.05</td>\n",
       "      <td>8326416.32</td>\n",
       "      <td>8413784.42</td>\n",
       "      <td>7174312.31</td>\n",
       "      <td>7423678.64</td>\n",
       "      <td>8581195.13</td>\n",
       "      <td>9193593.76</td>\n",
       "      <td>7407388.24</td>\n",
       "      <td>3556381.57</td>\n",
       "      <td>9.291297e+08</td>\n",
       "    </tr>\n",
       "    <tr>\n",
       "      <th>1</th>\n",
       "      <td>12 Acre</td>\n",
       "      <td>-</td>\n",
       "      <td>-</td>\n",
       "      <td>-</td>\n",
       "      <td>-</td>\n",
       "      <td>-</td>\n",
       "      <td>-</td>\n",
       "      <td>-</td>\n",
       "      <td>-</td>\n",
       "      <td>-</td>\n",
       "      <td>...</td>\n",
       "      <td>2959569.09</td>\n",
       "      <td>3261123.88</td>\n",
       "      <td>2981264.22</td>\n",
       "      <td>2859102.06</td>\n",
       "      <td>2472063.08</td>\n",
       "      <td>2383895.48</td>\n",
       "      <td>2199920.70</td>\n",
       "      <td>1163813.08</td>\n",
       "      <td>-</td>\n",
       "      <td>4.206680e+08</td>\n",
       "    </tr>\n",
       "    <tr>\n",
       "      <th>2</th>\n",
       "      <td>13 Amazonas</td>\n",
       "      <td>-</td>\n",
       "      <td>-</td>\n",
       "      <td>-</td>\n",
       "      <td>-</td>\n",
       "      <td>-</td>\n",
       "      <td>-</td>\n",
       "      <td>-</td>\n",
       "      <td>-</td>\n",
       "      <td>-</td>\n",
       "      <td>...</td>\n",
       "      <td>14923380.22</td>\n",
       "      <td>15939561.23</td>\n",
       "      <td>15138110.70</td>\n",
       "      <td>14773739.41</td>\n",
       "      <td>16330913.81</td>\n",
       "      <td>19441150.53</td>\n",
       "      <td>17509334.66</td>\n",
       "      <td>13358514.02</td>\n",
       "      <td>4726485.73</td>\n",
       "      <td>1.771655e+09</td>\n",
       "    </tr>\n",
       "    <tr>\n",
       "      <th>3</th>\n",
       "      <td>14 Roraima</td>\n",
       "      <td>-</td>\n",
       "      <td>-</td>\n",
       "      <td>-</td>\n",
       "      <td>-</td>\n",
       "      <td>-</td>\n",
       "      <td>-</td>\n",
       "      <td>-</td>\n",
       "      <td>-</td>\n",
       "      <td>-</td>\n",
       "      <td>...</td>\n",
       "      <td>2889969.87</td>\n",
       "      <td>3084561.08</td>\n",
       "      <td>2967159.04</td>\n",
       "      <td>2813954.05</td>\n",
       "      <td>2304961.42</td>\n",
       "      <td>2910776.44</td>\n",
       "      <td>3216466.51</td>\n",
       "      <td>2739498.41</td>\n",
       "      <td>1524478.04</td>\n",
       "      <td>3.050109e+08</td>\n",
       "    </tr>\n",
       "    <tr>\n",
       "      <th>4</th>\n",
       "      <td>15 Pará</td>\n",
       "      <td>-</td>\n",
       "      <td>-</td>\n",
       "      <td>-</td>\n",
       "      <td>-</td>\n",
       "      <td>-</td>\n",
       "      <td>-</td>\n",
       "      <td>-</td>\n",
       "      <td>-</td>\n",
       "      <td>-</td>\n",
       "      <td>...</td>\n",
       "      <td>35222625.80</td>\n",
       "      <td>37009819.17</td>\n",
       "      <td>34635702.52</td>\n",
       "      <td>34749098.46</td>\n",
       "      <td>28714969.96</td>\n",
       "      <td>41248502.78</td>\n",
       "      <td>35396030.78</td>\n",
       "      <td>27618727.51</td>\n",
       "      <td>11559714.54</td>\n",
       "      <td>4.437116e+09</td>\n",
       "    </tr>\n",
       "  </tbody>\n",
       "</table>\n",
       "<p>5 rows × 280 columns</p>\n",
       "</div>"
      ],
      "text/plain": [
       "  Unidade da Federação 1992/Mar 1992/Abr 1993/Mai 1993/Dez 1994/Jan 1994/Fev  \\\n",
       "0          11 Rondônia        -        -        -        -        -        -   \n",
       "1              12 Acre        -        -        -        -        -        -   \n",
       "2          13 Amazonas        -        -        -        -        -        -   \n",
       "3           14 Roraima        -        -        -        -        -        -   \n",
       "4              15 Pará        -        -        -        -        -        -   \n",
       "\n",
       "  1994/Mai 1994/Ago 1994/Nov  ...     2019/Dez     2020/Jan     2020/Fev  \\\n",
       "0        -        -        -  ...   8660753.05   8326416.32   8413784.42   \n",
       "1        -        -        -  ...   2959569.09   3261123.88   2981264.22   \n",
       "2        -        -        -  ...  14923380.22  15939561.23  15138110.70   \n",
       "3        -        -        -  ...   2889969.87   3084561.08   2967159.04   \n",
       "4        -        -        -  ...  35222625.80  37009819.17  34635702.52   \n",
       "\n",
       "      2020/Mar     2020/Abr     2020/Mai     2020/Jun     2020/Jul  \\\n",
       "0   7174312.31   7423678.64   8581195.13   9193593.76   7407388.24   \n",
       "1   2859102.06   2472063.08   2383895.48   2199920.70   1163813.08   \n",
       "2  14773739.41  16330913.81  19441150.53  17509334.66  13358514.02   \n",
       "3   2813954.05   2304961.42   2910776.44   3216466.51   2739498.41   \n",
       "4  34749098.46  28714969.96  41248502.78  35396030.78  27618727.51   \n",
       "\n",
       "      2020/Ago         Total  \n",
       "0   3556381.57  9.291297e+08  \n",
       "1            -  4.206680e+08  \n",
       "2   4726485.73  1.771655e+09  \n",
       "3   1524478.04  3.050109e+08  \n",
       "4  11559714.54  4.437116e+09  \n",
       "\n",
       "[5 rows x 280 columns]"
      ]
     },
     "execution_count": 16,
     "metadata": {},
     "output_type": "execute_result"
    }
   ],
   "source": [
    "dados = pd.read_csv(\"https://raw.githubusercontent.com/alura-cursos/agendamento-hospitalar/main/dados/A160324189_28_143_208.csv\",\n",
    "                    encoding=\"ISO-8859-1\", \n",
    "                    skiprows = 3, sep=\";\", skipfooter=12,\n",
    "                    thousands=\".\", decimal=\",\")\n",
    "dados.head()"
   ]
  },
  {
   "cell_type": "code",
   "execution_count": 17,
   "metadata": {
    "colab": {
     "base_uri": "https://localhost:8080/",
     "height": 389
    },
    "id": "W76fpjKRZW2J",
    "outputId": "278f2fe9-55f9-4646-e889-7b4e3e9de875"
   },
   "outputs": [
    {
     "data": {
      "text/html": [
       "<div>\n",
       "<style scoped>\n",
       "    .dataframe tbody tr th:only-of-type {\n",
       "        vertical-align: middle;\n",
       "    }\n",
       "\n",
       "    .dataframe tbody tr th {\n",
       "        vertical-align: top;\n",
       "    }\n",
       "\n",
       "    .dataframe thead th {\n",
       "        text-align: right;\n",
       "    }\n",
       "</style>\n",
       "<table border=\"1\" class=\"dataframe\">\n",
       "  <thead>\n",
       "    <tr style=\"text-align: right;\">\n",
       "      <th></th>\n",
       "      <th>Unidade da Federação</th>\n",
       "      <th>1992/Mar</th>\n",
       "      <th>1992/Abr</th>\n",
       "      <th>1993/Mai</th>\n",
       "      <th>1993/Dez</th>\n",
       "      <th>1994/Jan</th>\n",
       "      <th>1994/Fev</th>\n",
       "      <th>1994/Mai</th>\n",
       "      <th>1994/Ago</th>\n",
       "      <th>1994/Nov</th>\n",
       "      <th>...</th>\n",
       "      <th>2019/Dez</th>\n",
       "      <th>2020/Jan</th>\n",
       "      <th>2020/Fev</th>\n",
       "      <th>2020/Mar</th>\n",
       "      <th>2020/Abr</th>\n",
       "      <th>2020/Mai</th>\n",
       "      <th>2020/Jun</th>\n",
       "      <th>2020/Jul</th>\n",
       "      <th>2020/Ago</th>\n",
       "      <th>Total</th>\n",
       "    </tr>\n",
       "  </thead>\n",
       "  <tbody>\n",
       "    <tr>\n",
       "      <th>22</th>\n",
       "      <td>43 Rio Grande do Sul</td>\n",
       "      <td>-</td>\n",
       "      <td>-</td>\n",
       "      <td>-</td>\n",
       "      <td>-</td>\n",
       "      <td>-</td>\n",
       "      <td>-</td>\n",
       "      <td>-</td>\n",
       "      <td>-</td>\n",
       "      <td>-</td>\n",
       "      <td>...</td>\n",
       "      <td>88720873.59</td>\n",
       "      <td>97474362.62</td>\n",
       "      <td>85451646.35</td>\n",
       "      <td>84651396.59</td>\n",
       "      <td>76294596.96</td>\n",
       "      <td>86076113.42</td>\n",
       "      <td>89019478.82</td>\n",
       "      <td>78929703.81</td>\n",
       "      <td>28349257.38</td>\n",
       "      <td>1.195865e+10</td>\n",
       "    </tr>\n",
       "    <tr>\n",
       "      <th>23</th>\n",
       "      <td>50 Mato Grosso do Sul</td>\n",
       "      <td>-</td>\n",
       "      <td>-</td>\n",
       "      <td>-</td>\n",
       "      <td>-</td>\n",
       "      <td>-</td>\n",
       "      <td>-</td>\n",
       "      <td>-</td>\n",
       "      <td>-</td>\n",
       "      <td>-</td>\n",
       "      <td>...</td>\n",
       "      <td>17844511.04</td>\n",
       "      <td>18653296.92</td>\n",
       "      <td>17769247.00</td>\n",
       "      <td>17357008.80</td>\n",
       "      <td>15652772.51</td>\n",
       "      <td>16703851.10</td>\n",
       "      <td>15838659.34</td>\n",
       "      <td>12508717.35</td>\n",
       "      <td>4059220.22</td>\n",
       "      <td>2.172158e+09</td>\n",
       "    </tr>\n",
       "    <tr>\n",
       "      <th>24</th>\n",
       "      <td>51 Mato Grosso</td>\n",
       "      <td>-</td>\n",
       "      <td>-</td>\n",
       "      <td>-</td>\n",
       "      <td>-</td>\n",
       "      <td>-</td>\n",
       "      <td>-</td>\n",
       "      <td>-</td>\n",
       "      <td>-</td>\n",
       "      <td>-</td>\n",
       "      <td>...</td>\n",
       "      <td>13827706.20</td>\n",
       "      <td>15445693.74</td>\n",
       "      <td>14431171.87</td>\n",
       "      <td>14444207.60</td>\n",
       "      <td>11943713.53</td>\n",
       "      <td>13981483.29</td>\n",
       "      <td>14585009.42</td>\n",
       "      <td>13083151.70</td>\n",
       "      <td>6174224.99</td>\n",
       "      <td>2.036924e+09</td>\n",
       "    </tr>\n",
       "    <tr>\n",
       "      <th>25</th>\n",
       "      <td>52 Goiás</td>\n",
       "      <td>-</td>\n",
       "      <td>-</td>\n",
       "      <td>-</td>\n",
       "      <td>-</td>\n",
       "      <td>-</td>\n",
       "      <td>-</td>\n",
       "      <td>-</td>\n",
       "      <td>-</td>\n",
       "      <td>-</td>\n",
       "      <td>...</td>\n",
       "      <td>34050298.55</td>\n",
       "      <td>36312121.02</td>\n",
       "      <td>34158023.81</td>\n",
       "      <td>34558308.52</td>\n",
       "      <td>27499307.93</td>\n",
       "      <td>31870107.62</td>\n",
       "      <td>34437633.20</td>\n",
       "      <td>33499284.38</td>\n",
       "      <td>20242641.73</td>\n",
       "      <td>4.657349e+09</td>\n",
       "    </tr>\n",
       "    <tr>\n",
       "      <th>26</th>\n",
       "      <td>53 Distrito Federal</td>\n",
       "      <td>-</td>\n",
       "      <td>-</td>\n",
       "      <td>-</td>\n",
       "      <td>-</td>\n",
       "      <td>-</td>\n",
       "      <td>-</td>\n",
       "      <td>-</td>\n",
       "      <td>-</td>\n",
       "      <td>-</td>\n",
       "      <td>...</td>\n",
       "      <td>19207148.01</td>\n",
       "      <td>20429067.27</td>\n",
       "      <td>18219172.96</td>\n",
       "      <td>19405446.88</td>\n",
       "      <td>18123899.78</td>\n",
       "      <td>21437430.22</td>\n",
       "      <td>23479773.03</td>\n",
       "      <td>22233542.26</td>\n",
       "      <td>12044848.02</td>\n",
       "      <td>2.429933e+09</td>\n",
       "    </tr>\n",
       "  </tbody>\n",
       "</table>\n",
       "<p>5 rows × 280 columns</p>\n",
       "</div>"
      ],
      "text/plain": [
       "     Unidade da Federação 1992/Mar 1992/Abr 1993/Mai 1993/Dez 1994/Jan  \\\n",
       "22   43 Rio Grande do Sul        -        -        -        -        -   \n",
       "23  50 Mato Grosso do Sul        -        -        -        -        -   \n",
       "24         51 Mato Grosso        -        -        -        -        -   \n",
       "25               52 Goiás        -        -        -        -        -   \n",
       "26    53 Distrito Federal        -        -        -        -        -   \n",
       "\n",
       "   1994/Fev 1994/Mai 1994/Ago 1994/Nov  ...     2019/Dez     2020/Jan  \\\n",
       "22        -        -        -        -  ...  88720873.59  97474362.62   \n",
       "23        -        -        -        -  ...  17844511.04  18653296.92   \n",
       "24        -        -        -        -  ...  13827706.20  15445693.74   \n",
       "25        -        -        -        -  ...  34050298.55  36312121.02   \n",
       "26        -        -        -        -  ...  19207148.01  20429067.27   \n",
       "\n",
       "       2020/Fev     2020/Mar     2020/Abr     2020/Mai     2020/Jun  \\\n",
       "22  85451646.35  84651396.59  76294596.96  86076113.42  89019478.82   \n",
       "23  17769247.00  17357008.80  15652772.51  16703851.10  15838659.34   \n",
       "24  14431171.87  14444207.60  11943713.53  13981483.29  14585009.42   \n",
       "25  34158023.81  34558308.52  27499307.93  31870107.62  34437633.20   \n",
       "26  18219172.96  19405446.88  18123899.78  21437430.22  23479773.03   \n",
       "\n",
       "       2020/Jul     2020/Ago         Total  \n",
       "22  78929703.81  28349257.38  1.195865e+10  \n",
       "23  12508717.35   4059220.22  2.172158e+09  \n",
       "24  13083151.70   6174224.99  2.036924e+09  \n",
       "25  33499284.38  20242641.73  4.657349e+09  \n",
       "26  22233542.26  12044848.02  2.429933e+09  \n",
       "\n",
       "[5 rows x 280 columns]"
      ]
     },
     "execution_count": 17,
     "metadata": {},
     "output_type": "execute_result"
    }
   ],
   "source": [
    "dados.tail()"
   ]
  },
  {
   "cell_type": "code",
   "execution_count": 18,
   "metadata": {
    "colab": {
     "base_uri": "https://localhost:8080/",
     "height": 223
    },
    "id": "9IzpuzIuaSYY",
    "outputId": "73540042-15d7-4e59-dfac-39f41e5c9e40"
   },
   "outputs": [
    {
     "data": {
      "text/plain": [
       "2007/Ago    3.049528e+05\n",
       "2007/Set    7.881453e+05\n",
       "2007/Out    2.440163e+06\n",
       "2007/Nov    5.517354e+06\n",
       "2007/Dez    1.233716e+07\n",
       "                ...     \n",
       "2020/Abr    4.000568e+07\n",
       "2020/Mai    4.676903e+07\n",
       "2020/Jun    4.536735e+07\n",
       "2020/Jul    4.071708e+07\n",
       "Total       5.993724e+09\n",
       "Length: 157, dtype: float64"
      ]
     },
     "execution_count": 18,
     "metadata": {},
     "output_type": "execute_result"
    }
   ],
   "source": [
    "dados.mean()"
   ]
  },
  {
   "cell_type": "code",
   "execution_count": 19,
   "metadata": {
    "colab": {
     "base_uri": "https://localhost:8080/",
     "height": 103
    },
    "id": "6z24CxRLad5G",
    "outputId": "0a326892-6b4f-48ed-9f3b-db8606c0668e"
   },
   "outputs": [
    {
     "name": "stdout",
     "output_type": "stream",
     "text": [
      "<class 'pandas.core.frame.DataFrame'>\n",
      "RangeIndex: 27 entries, 0 to 26\n",
      "Columns: 280 entries, Unidade da Federação to Total\n",
      "dtypes: float64(157), object(123)\n",
      "memory usage: 59.2+ KB\n"
     ]
    }
   ],
   "source": [
    "dados.info()"
   ]
  },
  {
   "cell_type": "code",
   "execution_count": 20,
   "metadata": {
    "id": "eAHqt0m1arVe"
   },
   "outputs": [],
   "source": [
    "pd.options.display.float_format = \"{:.2f}\".format"
   ]
  },
  {
   "cell_type": "code",
   "execution_count": 21,
   "metadata": {
    "colab": {
     "base_uri": "https://localhost:8080/",
     "height": 223
    },
    "id": "ceT00eDNbLOk",
    "outputId": "458523df-69cb-41d8-e767-3ba006f7d68f"
   },
   "outputs": [
    {
     "data": {
      "text/plain": [
       "2007/Ago       304952.77\n",
       "2007/Set       788145.26\n",
       "2007/Out      2440162.96\n",
       "2007/Nov      5517354.05\n",
       "2007/Dez     12337159.42\n",
       "                ...     \n",
       "2020/Abr     40005678.92\n",
       "2020/Mai     46769027.82\n",
       "2020/Jun     45367349.74\n",
       "2020/Jul     40717083.95\n",
       "Total      5993724452.01\n",
       "Length: 157, dtype: float64"
      ]
     },
     "execution_count": 21,
     "metadata": {},
     "output_type": "execute_result"
    }
   ],
   "source": [
    "dados.mean()"
   ]
  },
  {
   "cell_type": "code",
   "execution_count": 22,
   "metadata": {
    "colab": {
     "base_uri": "https://localhost:8080/",
     "height": 497
    },
    "id": "kO_bBab-bMDn",
    "outputId": "bc9dac92-f341-42b8-c694-ef9ce3a23cdc"
   },
   "outputs": [
    {
     "data": {
      "text/plain": [
       "0      2938286.29\n",
       "1      1886871.84\n",
       "2      8331763.97\n",
       "3      1045291.11\n",
       "4     23259148.28\n",
       "5      1550340.63\n",
       "6      5213290.38\n",
       "7     14609872.57\n",
       "8     10645917.52\n",
       "9     29304821.51\n",
       "10    10812840.19\n",
       "11    12673774.35\n",
       "12    31705296.79\n",
       "13     9262767.68\n",
       "14     4543252.50\n",
       "15    43254543.33\n",
       "16    80374117.08\n",
       "17    12384068.19\n",
       "18    42487939.51\n",
       "19   179898070.22\n",
       "20    56699001.13\n",
       "21    28887854.62\n",
       "22    56233758.74\n",
       "23     9602843.49\n",
       "24     8987811.95\n",
       "25    21041071.33\n",
       "26    11548451.89\n",
       "Name: 2008/Ago, dtype: float64"
      ]
     },
     "execution_count": 22,
     "metadata": {},
     "output_type": "execute_result"
    }
   ],
   "source": [
    "dados[\"2008/Ago\"]"
   ]
  },
  {
   "cell_type": "code",
   "execution_count": 23,
   "metadata": {
    "colab": {
     "base_uri": "https://localhost:8080/",
     "height": 34
    },
    "id": "F1EZW87Kc_ot",
    "outputId": "9ed3a728-74af-4b1c-f9fd-9c906e87f76a"
   },
   "outputs": [
    {
     "data": {
      "text/plain": [
       "26636409.892222222"
      ]
     },
     "execution_count": 23,
     "metadata": {},
     "output_type": "execute_result"
    }
   ],
   "source": [
    "dados[\"2008/Ago\"].mean()"
   ]
  },
  {
   "cell_type": "code",
   "execution_count": null,
   "metadata": {
    "colab": {
     "base_uri": "https://localhost:8080/",
     "height": 308
    },
    "id": "oPrpTcF6dKZ2",
    "outputId": "3d93d709-dee1-4133-a55d-a05fc4ec0592"
   },
   "outputs": [],
   "source": [
    "dados.plot(x=\"Unidade da Federação\", y=\"2008/Ago\")"
   ]
  },
  {
   "cell_type": "code",
   "execution_count": null,
   "metadata": {
    "colab": {
     "base_uri": "https://localhost:8080/",
     "height": 524
    },
    "id": "nepmpDhedsW3",
    "outputId": "7f4d68ed-a43e-465f-f6a4-8ecb9c7ac5b6"
   },
   "outputs": [],
   "source": [
    "dados.plot(x=\"Unidade da Federação\", y=\"2008/Ago\", kind=\"bar\", figsize=(9,6))"
   ]
  },
  {
   "cell_type": "code",
   "execution_count": null,
   "metadata": {
    "colab": {
     "base_uri": "https://localhost:8080/",
     "height": 512
    },
    "id": "aJ9A3GCteSQg",
    "outputId": "8cb71d6f-e377-4bd9-a3a8-e779a0a93cc6"
   },
   "outputs": [],
   "source": [
    "import matplotlib.pyplot as plt\n",
    "import matplotlib.ticker as ticker\n",
    "\n",
    "ax = dados.plot(x=\"Unidade da Federação\", y=\"2008/Ago\", kind=\"bar\", figsize=(9,6))\n",
    "ax.yaxis.set_major_formatter(ticker.StrMethodFormatter(\"{x:,.2f}\"))\n",
    "\n",
    "plt.title(\"Valor por unidade da federação\")\n",
    "plt.show()"
   ]
  },
  {
   "cell_type": "markdown",
   "metadata": {
    "id": "sRGgrTCkgUQG"
   },
   "source": [
    "# Desafio: escolher um título mais descritivo, que passe a  mensagem adequada."
   ]
  },
  {
   "cell_type": "markdown",
   "metadata": {
    "id": "tlQj0zXQglDc"
   },
   "source": [
    "# Desafio: faça a mesma análise pro mês mais recente."
   ]
  },
  {
   "cell_type": "code",
   "execution_count": 14,
   "metadata": {
    "colab": {
     "base_uri": "https://localhost:8080/",
     "height": 203
    },
    "id": "yj-Apzvje74A",
    "outputId": "8cf48e23-b8fe-4412-efe6-976710abb6e5"
   },
   "outputs": [
    {
     "data": {
      "text/html": [
       "<div>\n",
       "<style scoped>\n",
       "    .dataframe tbody tr th:only-of-type {\n",
       "        vertical-align: middle;\n",
       "    }\n",
       "\n",
       "    .dataframe tbody tr th {\n",
       "        vertical-align: top;\n",
       "    }\n",
       "\n",
       "    .dataframe thead th {\n",
       "        text-align: right;\n",
       "    }\n",
       "</style>\n",
       "<table border=\"1\" class=\"dataframe\">\n",
       "  <thead>\n",
       "    <tr style=\"text-align: right;\">\n",
       "      <th></th>\n",
       "      <th>2008/Ago</th>\n",
       "      <th>2008/Set</th>\n",
       "    </tr>\n",
       "  </thead>\n",
       "  <tbody>\n",
       "    <tr>\n",
       "      <th>0</th>\n",
       "      <td>2938286.29</td>\n",
       "      <td>2843930.91</td>\n",
       "    </tr>\n",
       "    <tr>\n",
       "      <th>1</th>\n",
       "      <td>1886871.84</td>\n",
       "      <td>2084884.80</td>\n",
       "    </tr>\n",
       "    <tr>\n",
       "      <th>2</th>\n",
       "      <td>8331763.97</td>\n",
       "      <td>8148089.92</td>\n",
       "    </tr>\n",
       "    <tr>\n",
       "      <th>3</th>\n",
       "      <td>1045291.11</td>\n",
       "      <td>1003740.89</td>\n",
       "    </tr>\n",
       "    <tr>\n",
       "      <th>4</th>\n",
       "      <td>23259148.28</td>\n",
       "      <td>23667690.01</td>\n",
       "    </tr>\n",
       "  </tbody>\n",
       "</table>\n",
       "</div>"
      ],
      "text/plain": [
       "      2008/Ago     2008/Set\n",
       "0   2938286.29   2843930.91\n",
       "1   1886871.84   2084884.80\n",
       "2   8331763.97   8148089.92\n",
       "3   1045291.11   1003740.89\n",
       "4  23259148.28  23667690.01"
      ]
     },
     "execution_count": 14,
     "metadata": {},
     "output_type": "execute_result"
    }
   ],
   "source": [
    "dados[[\"2008/Ago\", \"2008/Set\"]].head()"
   ]
  },
  {
   "cell_type": "code",
   "execution_count": 25,
   "metadata": {
    "colab": {
     "base_uri": "https://localhost:8080/",
     "height": 223
    },
    "id": "-sosIkIzjMFo",
    "outputId": "659151f4-ba30-441e-de48-7ec78ff34391"
   },
   "outputs": [
    {
     "data": {
      "text/plain": [
       "['2007/Ago',\n",
       " '2007/Set',\n",
       " '2007/Out',\n",
       " '2007/Nov',\n",
       " '2007/Dez',\n",
       " '2008/Jan',\n",
       " '2008/Fev',\n",
       " '2008/Mar',\n",
       " '2008/Abr',\n",
       " '2008/Mai',\n",
       " '2008/Jun',\n",
       " '2008/Jul',\n",
       " '2008/Ago',\n",
       " '2008/Set',\n",
       " '2008/Out',\n",
       " '2008/Nov',\n",
       " '2008/Dez',\n",
       " '2009/Jan',\n",
       " '2009/Fev',\n",
       " '2009/Mar',\n",
       " '2009/Abr',\n",
       " '2009/Mai',\n",
       " '2009/Jun',\n",
       " '2009/Jul',\n",
       " '2009/Ago',\n",
       " '2009/Set',\n",
       " '2009/Out',\n",
       " '2009/Nov',\n",
       " '2009/Dez',\n",
       " '2010/Jan',\n",
       " '2010/Fev',\n",
       " '2010/Mar',\n",
       " '2010/Abr',\n",
       " '2010/Mai',\n",
       " '2010/Jun',\n",
       " '2010/Jul',\n",
       " '2010/Ago',\n",
       " '2010/Set',\n",
       " '2010/Out',\n",
       " '2010/Nov',\n",
       " '2010/Dez',\n",
       " '2011/Jan',\n",
       " '2011/Fev',\n",
       " '2011/Mar',\n",
       " '2011/Abr',\n",
       " '2011/Mai',\n",
       " '2011/Jun',\n",
       " '2011/Jul',\n",
       " '2011/Ago',\n",
       " '2011/Set',\n",
       " '2011/Out',\n",
       " '2011/Nov',\n",
       " '2011/Dez',\n",
       " '2012/Jan',\n",
       " '2012/Fev',\n",
       " '2012/Mar',\n",
       " '2012/Abr',\n",
       " '2012/Mai',\n",
       " '2012/Jun',\n",
       " '2012/Jul',\n",
       " '2012/Ago',\n",
       " '2012/Set',\n",
       " '2012/Out',\n",
       " '2012/Nov',\n",
       " '2012/Dez',\n",
       " '2013/Jan',\n",
       " '2013/Fev',\n",
       " '2013/Mar',\n",
       " '2013/Abr',\n",
       " '2013/Mai',\n",
       " '2013/Jun',\n",
       " '2013/Jul',\n",
       " '2013/Ago',\n",
       " '2013/Set',\n",
       " '2013/Out',\n",
       " '2013/Nov',\n",
       " '2013/Dez',\n",
       " '2014/Jan',\n",
       " '2014/Fev',\n",
       " '2014/Mar',\n",
       " '2014/Abr',\n",
       " '2014/Mai',\n",
       " '2014/Jun',\n",
       " '2014/Jul',\n",
       " '2014/Ago',\n",
       " '2014/Set',\n",
       " '2014/Out',\n",
       " '2014/Nov',\n",
       " '2014/Dez',\n",
       " '2015/Jan',\n",
       " '2015/Fev',\n",
       " '2015/Mar',\n",
       " '2015/Abr',\n",
       " '2015/Mai',\n",
       " '2015/Jun',\n",
       " '2015/Jul',\n",
       " '2015/Ago',\n",
       " '2015/Set',\n",
       " '2015/Out',\n",
       " '2015/Nov',\n",
       " '2015/Dez',\n",
       " '2016/Jan',\n",
       " '2016/Fev',\n",
       " '2016/Mar',\n",
       " '2016/Abr',\n",
       " '2016/Mai',\n",
       " '2016/Jun',\n",
       " '2016/Jul',\n",
       " '2016/Ago',\n",
       " '2016/Set',\n",
       " '2016/Out',\n",
       " '2016/Nov',\n",
       " '2016/Dez',\n",
       " '2017/Jan',\n",
       " '2017/Fev',\n",
       " '2017/Mar',\n",
       " '2017/Abr',\n",
       " '2017/Mai',\n",
       " '2017/Jun',\n",
       " '2017/Jul',\n",
       " '2017/Ago',\n",
       " '2017/Set',\n",
       " '2017/Out',\n",
       " '2017/Nov',\n",
       " '2017/Dez',\n",
       " '2018/Jan',\n",
       " '2018/Fev',\n",
       " '2018/Mar',\n",
       " '2018/Abr',\n",
       " '2018/Mai',\n",
       " '2018/Jun',\n",
       " '2018/Jul',\n",
       " '2018/Ago',\n",
       " '2018/Set',\n",
       " '2018/Out',\n",
       " '2018/Nov',\n",
       " '2018/Dez',\n",
       " '2019/Jan',\n",
       " '2019/Fev',\n",
       " '2019/Mar',\n",
       " '2019/Abr',\n",
       " '2019/Mai',\n",
       " '2019/Jun',\n",
       " '2019/Jul',\n",
       " '2019/Ago',\n",
       " '2019/Set',\n",
       " '2019/Out',\n",
       " '2019/Nov',\n",
       " '2019/Dez',\n",
       " '2020/Jan',\n",
       " '2020/Fev',\n",
       " '2020/Mar',\n",
       " '2020/Abr',\n",
       " '2020/Mai',\n",
       " '2020/Jun',\n",
       " '2020/Jul',\n",
       " 'Total']"
      ]
     },
     "execution_count": 25,
     "metadata": {},
     "output_type": "execute_result"
    }
   ],
   "source": [
    "dados.mean().index.tolist()"
   ]
  },
  {
   "cell_type": "code",
   "execution_count": 26,
   "metadata": {
    "colab": {
     "base_uri": "https://localhost:8080/",
     "height": 1000
    },
    "id": "XgXSf2cdkFnx",
    "outputId": "8ae324f4-71a2-480b-f1d2-2a5166a46b5e"
   },
   "outputs": [
    {
     "data": {
      "text/plain": [
       "['Unidade da Federação',\n",
       " '2007/Ago',\n",
       " '2007/Set',\n",
       " '2007/Out',\n",
       " '2007/Nov',\n",
       " '2007/Dez',\n",
       " '2008/Jan',\n",
       " '2008/Fev',\n",
       " '2008/Mar',\n",
       " '2008/Abr',\n",
       " '2008/Mai',\n",
       " '2008/Jun',\n",
       " '2008/Jul',\n",
       " '2008/Ago',\n",
       " '2008/Set',\n",
       " '2008/Out',\n",
       " '2008/Nov',\n",
       " '2008/Dez',\n",
       " '2009/Jan',\n",
       " '2009/Fev',\n",
       " '2009/Mar',\n",
       " '2009/Abr',\n",
       " '2009/Mai',\n",
       " '2009/Jun',\n",
       " '2009/Jul',\n",
       " '2009/Ago',\n",
       " '2009/Set',\n",
       " '2009/Out',\n",
       " '2009/Nov',\n",
       " '2009/Dez',\n",
       " '2010/Jan',\n",
       " '2010/Fev',\n",
       " '2010/Mar',\n",
       " '2010/Abr',\n",
       " '2010/Mai',\n",
       " '2010/Jun',\n",
       " '2010/Jul',\n",
       " '2010/Ago',\n",
       " '2010/Set',\n",
       " '2010/Out',\n",
       " '2010/Nov',\n",
       " '2010/Dez',\n",
       " '2011/Jan',\n",
       " '2011/Fev',\n",
       " '2011/Mar',\n",
       " '2011/Abr',\n",
       " '2011/Mai',\n",
       " '2011/Jun',\n",
       " '2011/Jul',\n",
       " '2011/Ago',\n",
       " '2011/Set',\n",
       " '2011/Out',\n",
       " '2011/Nov',\n",
       " '2011/Dez',\n",
       " '2012/Jan',\n",
       " '2012/Fev',\n",
       " '2012/Mar',\n",
       " '2012/Abr',\n",
       " '2012/Mai',\n",
       " '2012/Jun',\n",
       " '2012/Jul',\n",
       " '2012/Ago',\n",
       " '2012/Set',\n",
       " '2012/Out',\n",
       " '2012/Nov',\n",
       " '2012/Dez',\n",
       " '2013/Jan',\n",
       " '2013/Fev',\n",
       " '2013/Mar',\n",
       " '2013/Abr',\n",
       " '2013/Mai',\n",
       " '2013/Jun',\n",
       " '2013/Jul',\n",
       " '2013/Ago',\n",
       " '2013/Set',\n",
       " '2013/Out',\n",
       " '2013/Nov',\n",
       " '2013/Dez',\n",
       " '2014/Jan',\n",
       " '2014/Fev',\n",
       " '2014/Mar',\n",
       " '2014/Abr',\n",
       " '2014/Mai',\n",
       " '2014/Jun',\n",
       " '2014/Jul',\n",
       " '2014/Ago',\n",
       " '2014/Set',\n",
       " '2014/Out',\n",
       " '2014/Nov',\n",
       " '2014/Dez',\n",
       " '2015/Jan',\n",
       " '2015/Fev',\n",
       " '2015/Mar',\n",
       " '2015/Abr',\n",
       " '2015/Mai',\n",
       " '2015/Jun',\n",
       " '2015/Jul',\n",
       " '2015/Ago',\n",
       " '2015/Set',\n",
       " '2015/Out',\n",
       " '2015/Nov',\n",
       " '2015/Dez',\n",
       " '2016/Jan',\n",
       " '2016/Fev',\n",
       " '2016/Mar',\n",
       " '2016/Abr',\n",
       " '2016/Mai',\n",
       " '2016/Jun',\n",
       " '2016/Jul',\n",
       " '2016/Ago',\n",
       " '2016/Set',\n",
       " '2016/Out',\n",
       " '2016/Nov',\n",
       " '2016/Dez',\n",
       " '2017/Jan',\n",
       " '2017/Fev',\n",
       " '2017/Mar',\n",
       " '2017/Abr',\n",
       " '2017/Mai',\n",
       " '2017/Jun',\n",
       " '2017/Jul',\n",
       " '2017/Ago',\n",
       " '2017/Set',\n",
       " '2017/Out',\n",
       " '2017/Nov',\n",
       " '2017/Dez',\n",
       " '2018/Jan',\n",
       " '2018/Fev',\n",
       " '2018/Mar',\n",
       " '2018/Abr',\n",
       " '2018/Mai',\n",
       " '2018/Jun',\n",
       " '2018/Jul',\n",
       " '2018/Ago',\n",
       " '2018/Set',\n",
       " '2018/Out',\n",
       " '2018/Nov',\n",
       " '2018/Dez',\n",
       " '2019/Jan',\n",
       " '2019/Fev',\n",
       " '2019/Mar',\n",
       " '2019/Abr',\n",
       " '2019/Mai',\n",
       " '2019/Jun',\n",
       " '2019/Jul',\n",
       " '2019/Ago',\n",
       " '2019/Set',\n",
       " '2019/Out',\n",
       " '2019/Nov',\n",
       " '2019/Dez',\n",
       " '2020/Jan',\n",
       " '2020/Fev',\n",
       " '2020/Mar',\n",
       " '2020/Abr',\n",
       " '2020/Mai',\n",
       " '2020/Jun',\n",
       " '2020/Jul',\n",
       " 'Total']"
      ]
     },
     "execution_count": 26,
     "metadata": {},
     "output_type": "execute_result"
    }
   ],
   "source": [
    "colunas_usaveis = dados.mean().index.tolist()\n",
    "colunas_usaveis.insert(0, \"Unidade da Federação\")\n",
    "colunas_usaveis"
   ]
  },
  {
   "cell_type": "code",
   "execution_count": 34,
   "metadata": {
    "colab": {
     "base_uri": "https://localhost:8080/",
     "height": 338
    },
    "id": "AHXrWCP5kS-W",
    "outputId": "fec29407-a36f-4d30-9a63-34011a5572ac"
   },
   "outputs": [
    {
     "data": {
      "text/html": [
       "<div>\n",
       "<style scoped>\n",
       "    .dataframe tbody tr th:only-of-type {\n",
       "        vertical-align: middle;\n",
       "    }\n",
       "\n",
       "    .dataframe tbody tr th {\n",
       "        vertical-align: top;\n",
       "    }\n",
       "\n",
       "    .dataframe thead th {\n",
       "        text-align: right;\n",
       "    }\n",
       "</style>\n",
       "<table border=\"1\" class=\"dataframe\">\n",
       "  <thead>\n",
       "    <tr style=\"text-align: right;\">\n",
       "      <th></th>\n",
       "      <th>Unidade da Federação</th>\n",
       "      <th>2007/Ago</th>\n",
       "      <th>2007/Set</th>\n",
       "      <th>2007/Out</th>\n",
       "      <th>2007/Nov</th>\n",
       "      <th>2007/Dez</th>\n",
       "      <th>2008/Jan</th>\n",
       "      <th>2008/Fev</th>\n",
       "      <th>2008/Mar</th>\n",
       "      <th>2008/Abr</th>\n",
       "      <th>...</th>\n",
       "      <th>2019/Nov</th>\n",
       "      <th>2019/Dez</th>\n",
       "      <th>2020/Jan</th>\n",
       "      <th>2020/Fev</th>\n",
       "      <th>2020/Mar</th>\n",
       "      <th>2020/Abr</th>\n",
       "      <th>2020/Mai</th>\n",
       "      <th>2020/Jun</th>\n",
       "      <th>2020/Jul</th>\n",
       "      <th>Total</th>\n",
       "    </tr>\n",
       "  </thead>\n",
       "  <tbody>\n",
       "    <tr>\n",
       "      <th>0</th>\n",
       "      <td>11 Rondônia</td>\n",
       "      <td>4209.37</td>\n",
       "      <td>16397.03</td>\n",
       "      <td>133645.19</td>\n",
       "      <td>346912.84</td>\n",
       "      <td>711758.31</td>\n",
       "      <td>1829559.71</td>\n",
       "      <td>1940792.63</td>\n",
       "      <td>1955721.68</td>\n",
       "      <td>2143353.81</td>\n",
       "      <td>...</td>\n",
       "      <td>8948605.66</td>\n",
       "      <td>8660753.05</td>\n",
       "      <td>8326416.32</td>\n",
       "      <td>8413784.42</td>\n",
       "      <td>7174312.31</td>\n",
       "      <td>7423678.64</td>\n",
       "      <td>8581195.13</td>\n",
       "      <td>9193593.76</td>\n",
       "      <td>7407388.24</td>\n",
       "      <td>929129659.72</td>\n",
       "    </tr>\n",
       "    <tr>\n",
       "      <th>1</th>\n",
       "      <td>12 Acre</td>\n",
       "      <td>10470.07</td>\n",
       "      <td>14001.71</td>\n",
       "      <td>86200.85</td>\n",
       "      <td>301323.68</td>\n",
       "      <td>769612.36</td>\n",
       "      <td>1731744.62</td>\n",
       "      <td>1743978.66</td>\n",
       "      <td>2057439.02</td>\n",
       "      <td>2057829.69</td>\n",
       "      <td>...</td>\n",
       "      <td>3174249.43</td>\n",
       "      <td>2959569.09</td>\n",
       "      <td>3261123.88</td>\n",
       "      <td>2981264.22</td>\n",
       "      <td>2859102.06</td>\n",
       "      <td>2472063.08</td>\n",
       "      <td>2383895.48</td>\n",
       "      <td>2199920.70</td>\n",
       "      <td>1163813.08</td>\n",
       "      <td>420668039.63</td>\n",
       "    </tr>\n",
       "    <tr>\n",
       "      <th>2</th>\n",
       "      <td>13 Amazonas</td>\n",
       "      <td>35752.72</td>\n",
       "      <td>45570.64</td>\n",
       "      <td>416012.30</td>\n",
       "      <td>2020381.79</td>\n",
       "      <td>5949408.99</td>\n",
       "      <td>11419210.08</td>\n",
       "      <td>7934652.10</td>\n",
       "      <td>8641517.13</td>\n",
       "      <td>8531576.49</td>\n",
       "      <td>...</td>\n",
       "      <td>14781332.42</td>\n",
       "      <td>14923380.22</td>\n",
       "      <td>15939561.23</td>\n",
       "      <td>15138110.70</td>\n",
       "      <td>14773739.41</td>\n",
       "      <td>16330913.81</td>\n",
       "      <td>19441150.53</td>\n",
       "      <td>17509334.66</td>\n",
       "      <td>13358514.02</td>\n",
       "      <td>1771654871.23</td>\n",
       "    </tr>\n",
       "    <tr>\n",
       "      <th>3</th>\n",
       "      <td>14 Roraima</td>\n",
       "      <td>4785.91</td>\n",
       "      <td>11858.63</td>\n",
       "      <td>43852.67</td>\n",
       "      <td>369328.51</td>\n",
       "      <td>470676.43</td>\n",
       "      <td>808448.39</td>\n",
       "      <td>771687.83</td>\n",
       "      <td>876091.18</td>\n",
       "      <td>896952.53</td>\n",
       "      <td>...</td>\n",
       "      <td>3121104.71</td>\n",
       "      <td>2889969.87</td>\n",
       "      <td>3084561.08</td>\n",
       "      <td>2967159.04</td>\n",
       "      <td>2813954.05</td>\n",
       "      <td>2304961.42</td>\n",
       "      <td>2910776.44</td>\n",
       "      <td>3216466.51</td>\n",
       "      <td>2739498.41</td>\n",
       "      <td>305010883.18</td>\n",
       "    </tr>\n",
       "    <tr>\n",
       "      <th>4</th>\n",
       "      <td>15 Pará</td>\n",
       "      <td>181159.29</td>\n",
       "      <td>433414.74</td>\n",
       "      <td>1893197.50</td>\n",
       "      <td>5105406.44</td>\n",
       "      <td>13162823.43</td>\n",
       "      <td>21762104.16</td>\n",
       "      <td>20126081.01</td>\n",
       "      <td>22149375.82</td>\n",
       "      <td>23436682.75</td>\n",
       "      <td>...</td>\n",
       "      <td>35555518.00</td>\n",
       "      <td>35222625.80</td>\n",
       "      <td>37009819.17</td>\n",
       "      <td>34635702.52</td>\n",
       "      <td>34749098.46</td>\n",
       "      <td>28714969.96</td>\n",
       "      <td>41248502.78</td>\n",
       "      <td>35396030.78</td>\n",
       "      <td>27618727.51</td>\n",
       "      <td>4437115730.71</td>\n",
       "    </tr>\n",
       "  </tbody>\n",
       "</table>\n",
       "<p>5 rows × 158 columns</p>\n",
       "</div>"
      ],
      "text/plain": [
       "  Unidade da Federação  2007/Ago  2007/Set   2007/Out   2007/Nov    2007/Dez  \\\n",
       "0          11 Rondônia   4209.37  16397.03  133645.19  346912.84   711758.31   \n",
       "1              12 Acre  10470.07  14001.71   86200.85  301323.68   769612.36   \n",
       "2          13 Amazonas  35752.72  45570.64  416012.30 2020381.79  5949408.99   \n",
       "3           14 Roraima   4785.91  11858.63   43852.67  369328.51   470676.43   \n",
       "4              15 Pará 181159.29 433414.74 1893197.50 5105406.44 13162823.43   \n",
       "\n",
       "     2008/Jan    2008/Fev    2008/Mar    2008/Abr  ...    2019/Nov  \\\n",
       "0  1829559.71  1940792.63  1955721.68  2143353.81  ...  8948605.66   \n",
       "1  1731744.62  1743978.66  2057439.02  2057829.69  ...  3174249.43   \n",
       "2 11419210.08  7934652.10  8641517.13  8531576.49  ... 14781332.42   \n",
       "3   808448.39   771687.83   876091.18   896952.53  ...  3121104.71   \n",
       "4 21762104.16 20126081.01 22149375.82 23436682.75  ... 35555518.00   \n",
       "\n",
       "     2019/Dez    2020/Jan    2020/Fev    2020/Mar    2020/Abr    2020/Mai  \\\n",
       "0  8660753.05  8326416.32  8413784.42  7174312.31  7423678.64  8581195.13   \n",
       "1  2959569.09  3261123.88  2981264.22  2859102.06  2472063.08  2383895.48   \n",
       "2 14923380.22 15939561.23 15138110.70 14773739.41 16330913.81 19441150.53   \n",
       "3  2889969.87  3084561.08  2967159.04  2813954.05  2304961.42  2910776.44   \n",
       "4 35222625.80 37009819.17 34635702.52 34749098.46 28714969.96 41248502.78   \n",
       "\n",
       "     2020/Jun    2020/Jul         Total  \n",
       "0  9193593.76  7407388.24  929129659.72  \n",
       "1  2199920.70  1163813.08  420668039.63  \n",
       "2 17509334.66 13358514.02 1771654871.23  \n",
       "3  3216466.51  2739498.41  305010883.18  \n",
       "4 35396030.78 27618727.51 4437115730.71  \n",
       "\n",
       "[5 rows x 158 columns]"
      ]
     },
     "execution_count": 34,
     "metadata": {},
     "output_type": "execute_result"
    }
   ],
   "source": [
    "usaveis = dados[colunas_usaveis]\n",
    "usaveis.head()"
   ]
  },
  {
   "cell_type": "code",
   "execution_count": 28,
   "metadata": {
    "colab": {
     "base_uri": "https://localhost:8080/",
     "height": 1000
    },
    "id": "u_CRNwbfkZO-",
    "outputId": "cd69ee1b-14f9-4b59-e8e4-0ebfaab5bcda"
   },
   "outputs": [
    {
     "data": {
      "text/html": [
       "<div>\n",
       "<style scoped>\n",
       "    .dataframe tbody tr th:only-of-type {\n",
       "        vertical-align: middle;\n",
       "    }\n",
       "\n",
       "    .dataframe tbody tr th {\n",
       "        vertical-align: top;\n",
       "    }\n",
       "\n",
       "    .dataframe thead th {\n",
       "        text-align: right;\n",
       "    }\n",
       "</style>\n",
       "<table border=\"1\" class=\"dataframe\">\n",
       "  <thead>\n",
       "    <tr style=\"text-align: right;\">\n",
       "      <th></th>\n",
       "      <th>2007/Ago</th>\n",
       "      <th>2007/Set</th>\n",
       "      <th>2007/Out</th>\n",
       "      <th>2007/Nov</th>\n",
       "      <th>2007/Dez</th>\n",
       "      <th>2008/Jan</th>\n",
       "      <th>2008/Fev</th>\n",
       "      <th>2008/Mar</th>\n",
       "      <th>2008/Abr</th>\n",
       "      <th>2008/Mai</th>\n",
       "      <th>...</th>\n",
       "      <th>2019/Nov</th>\n",
       "      <th>2019/Dez</th>\n",
       "      <th>2020/Jan</th>\n",
       "      <th>2020/Fev</th>\n",
       "      <th>2020/Mar</th>\n",
       "      <th>2020/Abr</th>\n",
       "      <th>2020/Mai</th>\n",
       "      <th>2020/Jun</th>\n",
       "      <th>2020/Jul</th>\n",
       "      <th>Total</th>\n",
       "    </tr>\n",
       "    <tr>\n",
       "      <th>Unidade da Federação</th>\n",
       "      <th></th>\n",
       "      <th></th>\n",
       "      <th></th>\n",
       "      <th></th>\n",
       "      <th></th>\n",
       "      <th></th>\n",
       "      <th></th>\n",
       "      <th></th>\n",
       "      <th></th>\n",
       "      <th></th>\n",
       "      <th></th>\n",
       "      <th></th>\n",
       "      <th></th>\n",
       "      <th></th>\n",
       "      <th></th>\n",
       "      <th></th>\n",
       "      <th></th>\n",
       "      <th></th>\n",
       "      <th></th>\n",
       "      <th></th>\n",
       "      <th></th>\n",
       "    </tr>\n",
       "  </thead>\n",
       "  <tbody>\n",
       "    <tr>\n",
       "      <th>11 Rondônia</th>\n",
       "      <td>4209.37</td>\n",
       "      <td>16397.03</td>\n",
       "      <td>133645.19</td>\n",
       "      <td>346912.84</td>\n",
       "      <td>711758.31</td>\n",
       "      <td>1829559.71</td>\n",
       "      <td>1940792.63</td>\n",
       "      <td>1955721.68</td>\n",
       "      <td>2143353.81</td>\n",
       "      <td>2280382.58</td>\n",
       "      <td>...</td>\n",
       "      <td>8948605.66</td>\n",
       "      <td>8660753.05</td>\n",
       "      <td>8326416.32</td>\n",
       "      <td>8413784.42</td>\n",
       "      <td>7174312.31</td>\n",
       "      <td>7423678.64</td>\n",
       "      <td>8581195.13</td>\n",
       "      <td>9193593.76</td>\n",
       "      <td>7407388.24</td>\n",
       "      <td>929129659.72</td>\n",
       "    </tr>\n",
       "    <tr>\n",
       "      <th>12 Acre</th>\n",
       "      <td>10470.07</td>\n",
       "      <td>14001.71</td>\n",
       "      <td>86200.85</td>\n",
       "      <td>301323.68</td>\n",
       "      <td>769612.36</td>\n",
       "      <td>1731744.62</td>\n",
       "      <td>1743978.66</td>\n",
       "      <td>2057439.02</td>\n",
       "      <td>2057829.69</td>\n",
       "      <td>2226577.93</td>\n",
       "      <td>...</td>\n",
       "      <td>3174249.43</td>\n",
       "      <td>2959569.09</td>\n",
       "      <td>3261123.88</td>\n",
       "      <td>2981264.22</td>\n",
       "      <td>2859102.06</td>\n",
       "      <td>2472063.08</td>\n",
       "      <td>2383895.48</td>\n",
       "      <td>2199920.70</td>\n",
       "      <td>1163813.08</td>\n",
       "      <td>420668039.63</td>\n",
       "    </tr>\n",
       "    <tr>\n",
       "      <th>13 Amazonas</th>\n",
       "      <td>35752.72</td>\n",
       "      <td>45570.64</td>\n",
       "      <td>416012.30</td>\n",
       "      <td>2020381.79</td>\n",
       "      <td>5949408.99</td>\n",
       "      <td>11419210.08</td>\n",
       "      <td>7934652.10</td>\n",
       "      <td>8641517.13</td>\n",
       "      <td>8531576.49</td>\n",
       "      <td>9079902.15</td>\n",
       "      <td>...</td>\n",
       "      <td>14781332.42</td>\n",
       "      <td>14923380.22</td>\n",
       "      <td>15939561.23</td>\n",
       "      <td>15138110.70</td>\n",
       "      <td>14773739.41</td>\n",
       "      <td>16330913.81</td>\n",
       "      <td>19441150.53</td>\n",
       "      <td>17509334.66</td>\n",
       "      <td>13358514.02</td>\n",
       "      <td>1771654871.23</td>\n",
       "    </tr>\n",
       "    <tr>\n",
       "      <th>14 Roraima</th>\n",
       "      <td>4785.91</td>\n",
       "      <td>11858.63</td>\n",
       "      <td>43852.67</td>\n",
       "      <td>369328.51</td>\n",
       "      <td>470676.43</td>\n",
       "      <td>808448.39</td>\n",
       "      <td>771687.83</td>\n",
       "      <td>876091.18</td>\n",
       "      <td>896952.53</td>\n",
       "      <td>1027288.73</td>\n",
       "      <td>...</td>\n",
       "      <td>3121104.71</td>\n",
       "      <td>2889969.87</td>\n",
       "      <td>3084561.08</td>\n",
       "      <td>2967159.04</td>\n",
       "      <td>2813954.05</td>\n",
       "      <td>2304961.42</td>\n",
       "      <td>2910776.44</td>\n",
       "      <td>3216466.51</td>\n",
       "      <td>2739498.41</td>\n",
       "      <td>305010883.18</td>\n",
       "    </tr>\n",
       "    <tr>\n",
       "      <th>15 Pará</th>\n",
       "      <td>181159.29</td>\n",
       "      <td>433414.74</td>\n",
       "      <td>1893197.50</td>\n",
       "      <td>5105406.44</td>\n",
       "      <td>13162823.43</td>\n",
       "      <td>21762104.16</td>\n",
       "      <td>20126081.01</td>\n",
       "      <td>22149375.82</td>\n",
       "      <td>23436682.75</td>\n",
       "      <td>23861080.80</td>\n",
       "      <td>...</td>\n",
       "      <td>35555518.00</td>\n",
       "      <td>35222625.80</td>\n",
       "      <td>37009819.17</td>\n",
       "      <td>34635702.52</td>\n",
       "      <td>34749098.46</td>\n",
       "      <td>28714969.96</td>\n",
       "      <td>41248502.78</td>\n",
       "      <td>35396030.78</td>\n",
       "      <td>27618727.51</td>\n",
       "      <td>4437115730.71</td>\n",
       "    </tr>\n",
       "    <tr>\n",
       "      <th>16 Amapá</th>\n",
       "      <td>33672.74</td>\n",
       "      <td>104822.98</td>\n",
       "      <td>118378.28</td>\n",
       "      <td>226661.18</td>\n",
       "      <td>844019.90</td>\n",
       "      <td>1329876.61</td>\n",
       "      <td>1275063.72</td>\n",
       "      <td>1177745.93</td>\n",
       "      <td>1396371.51</td>\n",
       "      <td>1411520.77</td>\n",
       "      <td>...</td>\n",
       "      <td>2239443.36</td>\n",
       "      <td>2141400.83</td>\n",
       "      <td>2349858.56</td>\n",
       "      <td>2342499.95</td>\n",
       "      <td>2286241.46</td>\n",
       "      <td>1774558.12</td>\n",
       "      <td>2701014.87</td>\n",
       "      <td>2699492.23</td>\n",
       "      <td>2155083.37</td>\n",
       "      <td>291637984.75</td>\n",
       "    </tr>\n",
       "    <tr>\n",
       "      <th>17 Tocantins</th>\n",
       "      <td>4113.76</td>\n",
       "      <td>76633.06</td>\n",
       "      <td>343702.61</td>\n",
       "      <td>1068685.94</td>\n",
       "      <td>3022200.87</td>\n",
       "      <td>5136474.61</td>\n",
       "      <td>5051932.07</td>\n",
       "      <td>5200151.87</td>\n",
       "      <td>5343714.73</td>\n",
       "      <td>5344487.99</td>\n",
       "      <td>...</td>\n",
       "      <td>7594175.34</td>\n",
       "      <td>7573064.95</td>\n",
       "      <td>7225320.39</td>\n",
       "      <td>7341171.88</td>\n",
       "      <td>7025821.12</td>\n",
       "      <td>6204453.42</td>\n",
       "      <td>6732370.56</td>\n",
       "      <td>5018138.13</td>\n",
       "      <td>4489665.87</td>\n",
       "      <td>999998621.85</td>\n",
       "    </tr>\n",
       "    <tr>\n",
       "      <th>21 Maranhão</th>\n",
       "      <td>385330.18</td>\n",
       "      <td>1018352.93</td>\n",
       "      <td>2277717.78</td>\n",
       "      <td>4334468.23</td>\n",
       "      <td>8832514.85</td>\n",
       "      <td>21551600.33</td>\n",
       "      <td>13452263.93</td>\n",
       "      <td>14750895.33</td>\n",
       "      <td>15148647.11</td>\n",
       "      <td>14543679.92</td>\n",
       "      <td>...</td>\n",
       "      <td>30849081.57</td>\n",
       "      <td>29632234.87</td>\n",
       "      <td>31256187.80</td>\n",
       "      <td>28457299.99</td>\n",
       "      <td>28832662.46</td>\n",
       "      <td>23938156.77</td>\n",
       "      <td>32979447.97</td>\n",
       "      <td>31128144.66</td>\n",
       "      <td>24374205.15</td>\n",
       "      <td>3632860959.84</td>\n",
       "    </tr>\n",
       "    <tr>\n",
       "      <th>22 Piauí</th>\n",
       "      <td>220788.25</td>\n",
       "      <td>353468.67</td>\n",
       "      <td>1078182.68</td>\n",
       "      <td>2406035.32</td>\n",
       "      <td>4929772.93</td>\n",
       "      <td>11375419.37</td>\n",
       "      <td>9711680.20</td>\n",
       "      <td>10428191.09</td>\n",
       "      <td>10227943.00</td>\n",
       "      <td>10562148.66</td>\n",
       "      <td>...</td>\n",
       "      <td>17649092.71</td>\n",
       "      <td>16846903.02</td>\n",
       "      <td>17312889.65</td>\n",
       "      <td>16264613.57</td>\n",
       "      <td>15318975.43</td>\n",
       "      <td>11878587.16</td>\n",
       "      <td>14175053.45</td>\n",
       "      <td>15375523.59</td>\n",
       "      <td>18019214.49</td>\n",
       "      <td>2130616492.35</td>\n",
       "    </tr>\n",
       "    <tr>\n",
       "      <th>23 Ceará</th>\n",
       "      <td>357904.65</td>\n",
       "      <td>572356.18</td>\n",
       "      <td>1865065.71</td>\n",
       "      <td>5131814.39</td>\n",
       "      <td>10798042.86</td>\n",
       "      <td>32444328.54</td>\n",
       "      <td>27643304.86</td>\n",
       "      <td>30085370.22</td>\n",
       "      <td>31376221.00</td>\n",
       "      <td>31189904.62</td>\n",
       "      <td>...</td>\n",
       "      <td>50213511.70</td>\n",
       "      <td>48447583.61</td>\n",
       "      <td>53086389.30</td>\n",
       "      <td>49015303.22</td>\n",
       "      <td>46395356.97</td>\n",
       "      <td>43468816.62</td>\n",
       "      <td>54200339.48</td>\n",
       "      <td>42146555.81</td>\n",
       "      <td>30809221.22</td>\n",
       "      <td>6197357245.98</td>\n",
       "    </tr>\n",
       "    <tr>\n",
       "      <th>24 Rio Grande do Norte</th>\n",
       "      <td>134605.36</td>\n",
       "      <td>272088.08</td>\n",
       "      <td>684678.30</td>\n",
       "      <td>1695824.89</td>\n",
       "      <td>4730811.68</td>\n",
       "      <td>11763899.23</td>\n",
       "      <td>9110108.87</td>\n",
       "      <td>10126626.54</td>\n",
       "      <td>10964234.85</td>\n",
       "      <td>11032871.23</td>\n",
       "      <td>...</td>\n",
       "      <td>20350167.95</td>\n",
       "      <td>20135895.21</td>\n",
       "      <td>22201116.15</td>\n",
       "      <td>20512979.08</td>\n",
       "      <td>20936692.02</td>\n",
       "      <td>17319947.66</td>\n",
       "      <td>19916570.52</td>\n",
       "      <td>20219961.81</td>\n",
       "      <td>19593057.45</td>\n",
       "      <td>2477372149.60</td>\n",
       "    </tr>\n",
       "    <tr>\n",
       "      <th>25 Paraíba</th>\n",
       "      <td>97352.78</td>\n",
       "      <td>368130.43</td>\n",
       "      <td>1002088.64</td>\n",
       "      <td>2149873.40</td>\n",
       "      <td>5448177.36</td>\n",
       "      <td>16599004.84</td>\n",
       "      <td>10871589.62</td>\n",
       "      <td>12348758.14</td>\n",
       "      <td>12680965.13</td>\n",
       "      <td>13258411.71</td>\n",
       "      <td>...</td>\n",
       "      <td>18793177.73</td>\n",
       "      <td>17350470.69</td>\n",
       "      <td>18483522.60</td>\n",
       "      <td>17297452.30</td>\n",
       "      <td>17607478.01</td>\n",
       "      <td>15386630.89</td>\n",
       "      <td>18970543.57</td>\n",
       "      <td>19666096.87</td>\n",
       "      <td>15491469.06</td>\n",
       "      <td>2470550104.25</td>\n",
       "    </tr>\n",
       "    <tr>\n",
       "      <th>26 Pernambuco</th>\n",
       "      <td>400640.85</td>\n",
       "      <td>1088340.42</td>\n",
       "      <td>2973553.48</td>\n",
       "      <td>6699828.82</td>\n",
       "      <td>16919031.39</td>\n",
       "      <td>51219113.60</td>\n",
       "      <td>26222079.10</td>\n",
       "      <td>30716361.81</td>\n",
       "      <td>30589332.79</td>\n",
       "      <td>31409553.23</td>\n",
       "      <td>...</td>\n",
       "      <td>68402767.80</td>\n",
       "      <td>64856891.24</td>\n",
       "      <td>69630712.14</td>\n",
       "      <td>62552189.96</td>\n",
       "      <td>59628674.07</td>\n",
       "      <td>53843729.23</td>\n",
       "      <td>65424719.40</td>\n",
       "      <td>68145110.59</td>\n",
       "      <td>62325444.34</td>\n",
       "      <td>8046954289.39</td>\n",
       "    </tr>\n",
       "    <tr>\n",
       "      <th>27 Alagoas</th>\n",
       "      <td>104243.75</td>\n",
       "      <td>174024.90</td>\n",
       "      <td>595544.54</td>\n",
       "      <td>1125396.73</td>\n",
       "      <td>2564966.65</td>\n",
       "      <td>16503978.22</td>\n",
       "      <td>8112220.30</td>\n",
       "      <td>9210505.56</td>\n",
       "      <td>10466691.94</td>\n",
       "      <td>9844096.03</td>\n",
       "      <td>...</td>\n",
       "      <td>16429689.91</td>\n",
       "      <td>15969025.28</td>\n",
       "      <td>17263960.88</td>\n",
       "      <td>15228725.99</td>\n",
       "      <td>15998721.86</td>\n",
       "      <td>14241361.44</td>\n",
       "      <td>15254204.31</td>\n",
       "      <td>14278872.07</td>\n",
       "      <td>13087850.40</td>\n",
       "      <td>2104405303.11</td>\n",
       "    </tr>\n",
       "    <tr>\n",
       "      <th>28 Sergipe</th>\n",
       "      <td>27453.63</td>\n",
       "      <td>78565.19</td>\n",
       "      <td>122952.94</td>\n",
       "      <td>775705.52</td>\n",
       "      <td>2765495.63</td>\n",
       "      <td>5439985.99</td>\n",
       "      <td>4636850.76</td>\n",
       "      <td>5017838.07</td>\n",
       "      <td>5265951.03</td>\n",
       "      <td>5367094.94</td>\n",
       "      <td>...</td>\n",
       "      <td>9278358.26</td>\n",
       "      <td>9230144.57</td>\n",
       "      <td>9605882.99</td>\n",
       "      <td>9160713.54</td>\n",
       "      <td>9193248.73</td>\n",
       "      <td>8395906.57</td>\n",
       "      <td>8450209.57</td>\n",
       "      <td>6705923.03</td>\n",
       "      <td>3312766.32</td>\n",
       "      <td>1130337049.71</td>\n",
       "    </tr>\n",
       "    <tr>\n",
       "      <th>29 Bahia</th>\n",
       "      <td>135146.36</td>\n",
       "      <td>448349.75</td>\n",
       "      <td>1382038.11</td>\n",
       "      <td>3348779.62</td>\n",
       "      <td>11948984.56</td>\n",
       "      <td>73336297.08</td>\n",
       "      <td>33410124.06</td>\n",
       "      <td>41301703.40</td>\n",
       "      <td>42826993.62</td>\n",
       "      <td>42071294.17</td>\n",
       "      <td>...</td>\n",
       "      <td>72314938.33</td>\n",
       "      <td>68576836.10</td>\n",
       "      <td>74373631.19</td>\n",
       "      <td>67697544.36</td>\n",
       "      <td>70340301.29</td>\n",
       "      <td>59109689.20</td>\n",
       "      <td>61756775.71</td>\n",
       "      <td>65159300.63</td>\n",
       "      <td>58898100.40</td>\n",
       "      <td>9193802684.16</td>\n",
       "    </tr>\n",
       "    <tr>\n",
       "      <th>31 Minas Gerais</th>\n",
       "      <td>971394.37</td>\n",
       "      <td>2861781.50</td>\n",
       "      <td>10018011.35</td>\n",
       "      <td>21730281.63</td>\n",
       "      <td>43429517.54</td>\n",
       "      <td>205912743.65</td>\n",
       "      <td>70301089.50</td>\n",
       "      <td>79119005.51</td>\n",
       "      <td>79046322.41</td>\n",
       "      <td>79268070.12</td>\n",
       "      <td>...</td>\n",
       "      <td>152106660.17</td>\n",
       "      <td>152398599.06</td>\n",
       "      <td>158097903.98</td>\n",
       "      <td>141323175.61</td>\n",
       "      <td>147078556.29</td>\n",
       "      <td>126330649.86</td>\n",
       "      <td>136867275.75</td>\n",
       "      <td>135977571.87</td>\n",
       "      <td>120467187.34</td>\n",
       "      <td>19160106499.88</td>\n",
       "    </tr>\n",
       "    <tr>\n",
       "      <th>32 Espírito Santo</th>\n",
       "      <td>57408.11</td>\n",
       "      <td>284224.80</td>\n",
       "      <td>1152115.25</td>\n",
       "      <td>2296383.23</td>\n",
       "      <td>5724199.54</td>\n",
       "      <td>16212109.41</td>\n",
       "      <td>10032886.43</td>\n",
       "      <td>12262049.08</td>\n",
       "      <td>12453466.98</td>\n",
       "      <td>11789786.09</td>\n",
       "      <td>...</td>\n",
       "      <td>26236636.40</td>\n",
       "      <td>25163041.42</td>\n",
       "      <td>27533550.66</td>\n",
       "      <td>26542802.84</td>\n",
       "      <td>26555688.68</td>\n",
       "      <td>23735724.64</td>\n",
       "      <td>28614683.75</td>\n",
       "      <td>27450865.16</td>\n",
       "      <td>27460475.47</td>\n",
       "      <td>3139189177.73</td>\n",
       "    </tr>\n",
       "    <tr>\n",
       "      <th>33 Rio de Janeiro</th>\n",
       "      <td>469469.34</td>\n",
       "      <td>921646.57</td>\n",
       "      <td>2994664.57</td>\n",
       "      <td>7250528.08</td>\n",
       "      <td>13627123.27</td>\n",
       "      <td>250564959.99</td>\n",
       "      <td>44122593.19</td>\n",
       "      <td>42892665.52</td>\n",
       "      <td>45295962.86</td>\n",
       "      <td>43951349.46</td>\n",
       "      <td>...</td>\n",
       "      <td>74620476.61</td>\n",
       "      <td>74895861.63</td>\n",
       "      <td>79705663.75</td>\n",
       "      <td>72412810.42</td>\n",
       "      <td>73594497.93</td>\n",
       "      <td>68160773.35</td>\n",
       "      <td>86281033.16</td>\n",
       "      <td>77604925.21</td>\n",
       "      <td>71540227.33</td>\n",
       "      <td>9696362872.68</td>\n",
       "    </tr>\n",
       "    <tr>\n",
       "      <th>35 São Paulo</th>\n",
       "      <td>1665349.90</td>\n",
       "      <td>4434168.64</td>\n",
       "      <td>14577395.84</td>\n",
       "      <td>35032259.98</td>\n",
       "      <td>76668547.41</td>\n",
       "      <td>1023564534.21</td>\n",
       "      <td>172834914.73</td>\n",
       "      <td>170481849.56</td>\n",
       "      <td>170278285.95</td>\n",
       "      <td>172402180.59</td>\n",
       "      <td>...</td>\n",
       "      <td>282391773.21</td>\n",
       "      <td>272697695.04</td>\n",
       "      <td>301991167.67</td>\n",
       "      <td>271356784.04</td>\n",
       "      <td>276606288.92</td>\n",
       "      <td>251696362.66</td>\n",
       "      <td>302857660.98</td>\n",
       "      <td>299060851.62</td>\n",
       "      <td>282709570.31</td>\n",
       "      <td>38929353900.57</td>\n",
       "    </tr>\n",
       "    <tr>\n",
       "      <th>41 Paraná</th>\n",
       "      <td>554800.22</td>\n",
       "      <td>1431708.01</td>\n",
       "      <td>4630402.44</td>\n",
       "      <td>11120030.79</td>\n",
       "      <td>28790722.87</td>\n",
       "      <td>58081334.45</td>\n",
       "      <td>48855046.46</td>\n",
       "      <td>55611791.07</td>\n",
       "      <td>56115135.82</td>\n",
       "      <td>55574831.93</td>\n",
       "      <td>...</td>\n",
       "      <td>126209369.22</td>\n",
       "      <td>113545318.91</td>\n",
       "      <td>122268754.10</td>\n",
       "      <td>116061602.52</td>\n",
       "      <td>114476997.52</td>\n",
       "      <td>96727112.19</td>\n",
       "      <td>106103737.62</td>\n",
       "      <td>92901461.36</td>\n",
       "      <td>80320852.69</td>\n",
       "      <td>13786964617.27</td>\n",
       "    </tr>\n",
       "    <tr>\n",
       "      <th>42 Santa Catarina</th>\n",
       "      <td>693955.05</td>\n",
       "      <td>1092964.12</td>\n",
       "      <td>3562300.82</td>\n",
       "      <td>7578502.38</td>\n",
       "      <td>14772555.10</td>\n",
       "      <td>53034384.67</td>\n",
       "      <td>24409572.92</td>\n",
       "      <td>27483480.50</td>\n",
       "      <td>27806641.44</td>\n",
       "      <td>28354279.52</td>\n",
       "      <td>...</td>\n",
       "      <td>62635827.71</td>\n",
       "      <td>58210191.51</td>\n",
       "      <td>64546099.76</td>\n",
       "      <td>59549208.75</td>\n",
       "      <td>56709962.09</td>\n",
       "      <td>51179993.45</td>\n",
       "      <td>56843604.33</td>\n",
       "      <td>56503747.99</td>\n",
       "      <td>51764534.76</td>\n",
       "      <td>7324100054.96</td>\n",
       "    </tr>\n",
       "    <tr>\n",
       "      <th>43 Rio Grande do Sul</th>\n",
       "      <td>1049252.33</td>\n",
       "      <td>3182913.14</td>\n",
       "      <td>8571312.11</td>\n",
       "      <td>16592432.80</td>\n",
       "      <td>30134255.70</td>\n",
       "      <td>51064610.03</td>\n",
       "      <td>45897704.82</td>\n",
       "      <td>52928695.92</td>\n",
       "      <td>51972416.77</td>\n",
       "      <td>51679350.79</td>\n",
       "      <td>...</td>\n",
       "      <td>90971809.22</td>\n",
       "      <td>88720873.59</td>\n",
       "      <td>97474362.62</td>\n",
       "      <td>85451646.35</td>\n",
       "      <td>84651396.59</td>\n",
       "      <td>76294596.96</td>\n",
       "      <td>86076113.42</td>\n",
       "      <td>89019478.82</td>\n",
       "      <td>78929703.81</td>\n",
       "      <td>11958647088.33</td>\n",
       "    </tr>\n",
       "    <tr>\n",
       "      <th>50 Mato Grosso do Sul</th>\n",
       "      <td>199556.12</td>\n",
       "      <td>573675.41</td>\n",
       "      <td>1069816.66</td>\n",
       "      <td>1995899.52</td>\n",
       "      <td>4277979.14</td>\n",
       "      <td>8301006.10</td>\n",
       "      <td>8279288.79</td>\n",
       "      <td>9793888.78</td>\n",
       "      <td>8997542.75</td>\n",
       "      <td>9842108.59</td>\n",
       "      <td>...</td>\n",
       "      <td>18316480.80</td>\n",
       "      <td>17844511.04</td>\n",
       "      <td>18653296.92</td>\n",
       "      <td>17769247.00</td>\n",
       "      <td>17357008.80</td>\n",
       "      <td>15652772.51</td>\n",
       "      <td>16703851.10</td>\n",
       "      <td>15838659.34</td>\n",
       "      <td>12508717.35</td>\n",
       "      <td>2172157981.36</td>\n",
       "    </tr>\n",
       "    <tr>\n",
       "      <th>51 Mato Grosso</th>\n",
       "      <td>63562.50</td>\n",
       "      <td>232444.62</td>\n",
       "      <td>927219.59</td>\n",
       "      <td>1740439.60</td>\n",
       "      <td>5394225.43</td>\n",
       "      <td>8213438.64</td>\n",
       "      <td>7929894.93</td>\n",
       "      <td>9416367.68</td>\n",
       "      <td>9390588.03</td>\n",
       "      <td>9378197.25</td>\n",
       "      <td>...</td>\n",
       "      <td>15097362.41</td>\n",
       "      <td>13827706.20</td>\n",
       "      <td>15445693.74</td>\n",
       "      <td>14431171.87</td>\n",
       "      <td>14444207.60</td>\n",
       "      <td>11943713.53</td>\n",
       "      <td>13981483.29</td>\n",
       "      <td>14585009.42</td>\n",
       "      <td>13083151.70</td>\n",
       "      <td>2036923784.59</td>\n",
       "    </tr>\n",
       "    <tr>\n",
       "      <th>52 Goiás</th>\n",
       "      <td>179395.82</td>\n",
       "      <td>418053.58</td>\n",
       "      <td>1198730.25</td>\n",
       "      <td>2712117.54</td>\n",
       "      <td>9293914.78</td>\n",
       "      <td>74063828.22</td>\n",
       "      <td>18149374.27</td>\n",
       "      <td>20992213.03</td>\n",
       "      <td>21049477.30</td>\n",
       "      <td>19162546.79</td>\n",
       "      <td>...</td>\n",
       "      <td>36234132.35</td>\n",
       "      <td>34050298.55</td>\n",
       "      <td>36312121.02</td>\n",
       "      <td>34158023.81</td>\n",
       "      <td>34558308.52</td>\n",
       "      <td>27499307.93</td>\n",
       "      <td>31870107.62</td>\n",
       "      <td>34437633.20</td>\n",
       "      <td>33499284.38</td>\n",
       "      <td>4657348958.66</td>\n",
       "    </tr>\n",
       "    <tr>\n",
       "      <th>53 Distrito Federal</th>\n",
       "      <td>191951.47</td>\n",
       "      <td>769966.25</td>\n",
       "      <td>2165619.56</td>\n",
       "      <td>3813256.48</td>\n",
       "      <td>7121965.42</td>\n",
       "      <td>10561085.46</td>\n",
       "      <td>10215956.80</td>\n",
       "      <td>11627918.26</td>\n",
       "      <td>11922015.36</td>\n",
       "      <td>11900817.00</td>\n",
       "      <td>...</td>\n",
       "      <td>19617400.92</td>\n",
       "      <td>19207148.01</td>\n",
       "      <td>20429067.27</td>\n",
       "      <td>18219172.96</td>\n",
       "      <td>19405446.88</td>\n",
       "      <td>18123899.78</td>\n",
       "      <td>21437430.22</td>\n",
       "      <td>23479773.03</td>\n",
       "      <td>22233542.26</td>\n",
       "      <td>2429933198.76</td>\n",
       "    </tr>\n",
       "  </tbody>\n",
       "</table>\n",
       "<p>27 rows × 157 columns</p>\n",
       "</div>"
      ],
      "text/plain": [
       "                         2007/Ago   2007/Set    2007/Out    2007/Nov  \\\n",
       "Unidade da Federação                                                   \n",
       "11 Rondônia               4209.37   16397.03   133645.19   346912.84   \n",
       "12 Acre                  10470.07   14001.71    86200.85   301323.68   \n",
       "13 Amazonas              35752.72   45570.64   416012.30  2020381.79   \n",
       "14 Roraima                4785.91   11858.63    43852.67   369328.51   \n",
       "15 Pará                 181159.29  433414.74  1893197.50  5105406.44   \n",
       "16 Amapá                 33672.74  104822.98   118378.28   226661.18   \n",
       "17 Tocantins              4113.76   76633.06   343702.61  1068685.94   \n",
       "21 Maranhão             385330.18 1018352.93  2277717.78  4334468.23   \n",
       "22 Piauí                220788.25  353468.67  1078182.68  2406035.32   \n",
       "23 Ceará                357904.65  572356.18  1865065.71  5131814.39   \n",
       "24 Rio Grande do Norte  134605.36  272088.08   684678.30  1695824.89   \n",
       "25 Paraíba               97352.78  368130.43  1002088.64  2149873.40   \n",
       "26 Pernambuco           400640.85 1088340.42  2973553.48  6699828.82   \n",
       "27 Alagoas              104243.75  174024.90   595544.54  1125396.73   \n",
       "28 Sergipe               27453.63   78565.19   122952.94   775705.52   \n",
       "29 Bahia                135146.36  448349.75  1382038.11  3348779.62   \n",
       "31 Minas Gerais         971394.37 2861781.50 10018011.35 21730281.63   \n",
       "32 Espírito Santo        57408.11  284224.80  1152115.25  2296383.23   \n",
       "33 Rio de Janeiro       469469.34  921646.57  2994664.57  7250528.08   \n",
       "35 São Paulo           1665349.90 4434168.64 14577395.84 35032259.98   \n",
       "41 Paraná               554800.22 1431708.01  4630402.44 11120030.79   \n",
       "42 Santa Catarina       693955.05 1092964.12  3562300.82  7578502.38   \n",
       "43 Rio Grande do Sul   1049252.33 3182913.14  8571312.11 16592432.80   \n",
       "50 Mato Grosso do Sul   199556.12  573675.41  1069816.66  1995899.52   \n",
       "51 Mato Grosso           63562.50  232444.62   927219.59  1740439.60   \n",
       "52 Goiás                179395.82  418053.58  1198730.25  2712117.54   \n",
       "53 Distrito Federal     191951.47  769966.25  2165619.56  3813256.48   \n",
       "\n",
       "                          2007/Dez      2008/Jan     2008/Fev     2008/Mar  \\\n",
       "Unidade da Federação                                                         \n",
       "11 Rondônia              711758.31    1829559.71   1940792.63   1955721.68   \n",
       "12 Acre                  769612.36    1731744.62   1743978.66   2057439.02   \n",
       "13 Amazonas             5949408.99   11419210.08   7934652.10   8641517.13   \n",
       "14 Roraima               470676.43     808448.39    771687.83    876091.18   \n",
       "15 Pará                13162823.43   21762104.16  20126081.01  22149375.82   \n",
       "16 Amapá                 844019.90    1329876.61   1275063.72   1177745.93   \n",
       "17 Tocantins            3022200.87    5136474.61   5051932.07   5200151.87   \n",
       "21 Maranhão             8832514.85   21551600.33  13452263.93  14750895.33   \n",
       "22 Piauí                4929772.93   11375419.37   9711680.20  10428191.09   \n",
       "23 Ceará               10798042.86   32444328.54  27643304.86  30085370.22   \n",
       "24 Rio Grande do Norte  4730811.68   11763899.23   9110108.87  10126626.54   \n",
       "25 Paraíba              5448177.36   16599004.84  10871589.62  12348758.14   \n",
       "26 Pernambuco          16919031.39   51219113.60  26222079.10  30716361.81   \n",
       "27 Alagoas              2564966.65   16503978.22   8112220.30   9210505.56   \n",
       "28 Sergipe              2765495.63    5439985.99   4636850.76   5017838.07   \n",
       "29 Bahia               11948984.56   73336297.08  33410124.06  41301703.40   \n",
       "31 Minas Gerais        43429517.54  205912743.65  70301089.50  79119005.51   \n",
       "32 Espírito Santo       5724199.54   16212109.41  10032886.43  12262049.08   \n",
       "33 Rio de Janeiro      13627123.27  250564959.99  44122593.19  42892665.52   \n",
       "35 São Paulo           76668547.41 1023564534.21 172834914.73 170481849.56   \n",
       "41 Paraná              28790722.87   58081334.45  48855046.46  55611791.07   \n",
       "42 Santa Catarina      14772555.10   53034384.67  24409572.92  27483480.50   \n",
       "43 Rio Grande do Sul   30134255.70   51064610.03  45897704.82  52928695.92   \n",
       "50 Mato Grosso do Sul   4277979.14    8301006.10   8279288.79   9793888.78   \n",
       "51 Mato Grosso          5394225.43    8213438.64   7929894.93   9416367.68   \n",
       "52 Goiás                9293914.78   74063828.22  18149374.27  20992213.03   \n",
       "53 Distrito Federal     7121965.42   10561085.46  10215956.80  11627918.26   \n",
       "\n",
       "                           2008/Abr     2008/Mai  ...     2019/Nov  \\\n",
       "Unidade da Federação                              ...                \n",
       "11 Rondônia              2143353.81   2280382.58  ...   8948605.66   \n",
       "12 Acre                  2057829.69   2226577.93  ...   3174249.43   \n",
       "13 Amazonas              8531576.49   9079902.15  ...  14781332.42   \n",
       "14 Roraima                896952.53   1027288.73  ...   3121104.71   \n",
       "15 Pará                 23436682.75  23861080.80  ...  35555518.00   \n",
       "16 Amapá                 1396371.51   1411520.77  ...   2239443.36   \n",
       "17 Tocantins             5343714.73   5344487.99  ...   7594175.34   \n",
       "21 Maranhão             15148647.11  14543679.92  ...  30849081.57   \n",
       "22 Piauí                10227943.00  10562148.66  ...  17649092.71   \n",
       "23 Ceará                31376221.00  31189904.62  ...  50213511.70   \n",
       "24 Rio Grande do Norte  10964234.85  11032871.23  ...  20350167.95   \n",
       "25 Paraíba              12680965.13  13258411.71  ...  18793177.73   \n",
       "26 Pernambuco           30589332.79  31409553.23  ...  68402767.80   \n",
       "27 Alagoas              10466691.94   9844096.03  ...  16429689.91   \n",
       "28 Sergipe               5265951.03   5367094.94  ...   9278358.26   \n",
       "29 Bahia                42826993.62  42071294.17  ...  72314938.33   \n",
       "31 Minas Gerais         79046322.41  79268070.12  ... 152106660.17   \n",
       "32 Espírito Santo       12453466.98  11789786.09  ...  26236636.40   \n",
       "33 Rio de Janeiro       45295962.86  43951349.46  ...  74620476.61   \n",
       "35 São Paulo           170278285.95 172402180.59  ... 282391773.21   \n",
       "41 Paraná               56115135.82  55574831.93  ... 126209369.22   \n",
       "42 Santa Catarina       27806641.44  28354279.52  ...  62635827.71   \n",
       "43 Rio Grande do Sul    51972416.77  51679350.79  ...  90971809.22   \n",
       "50 Mato Grosso do Sul    8997542.75   9842108.59  ...  18316480.80   \n",
       "51 Mato Grosso           9390588.03   9378197.25  ...  15097362.41   \n",
       "52 Goiás                21049477.30  19162546.79  ...  36234132.35   \n",
       "53 Distrito Federal     11922015.36  11900817.00  ...  19617400.92   \n",
       "\n",
       "                           2019/Dez     2020/Jan     2020/Fev     2020/Mar  \\\n",
       "Unidade da Federação                                                         \n",
       "11 Rondônia              8660753.05   8326416.32   8413784.42   7174312.31   \n",
       "12 Acre                  2959569.09   3261123.88   2981264.22   2859102.06   \n",
       "13 Amazonas             14923380.22  15939561.23  15138110.70  14773739.41   \n",
       "14 Roraima               2889969.87   3084561.08   2967159.04   2813954.05   \n",
       "15 Pará                 35222625.80  37009819.17  34635702.52  34749098.46   \n",
       "16 Amapá                 2141400.83   2349858.56   2342499.95   2286241.46   \n",
       "17 Tocantins             7573064.95   7225320.39   7341171.88   7025821.12   \n",
       "21 Maranhão             29632234.87  31256187.80  28457299.99  28832662.46   \n",
       "22 Piauí                16846903.02  17312889.65  16264613.57  15318975.43   \n",
       "23 Ceará                48447583.61  53086389.30  49015303.22  46395356.97   \n",
       "24 Rio Grande do Norte  20135895.21  22201116.15  20512979.08  20936692.02   \n",
       "25 Paraíba              17350470.69  18483522.60  17297452.30  17607478.01   \n",
       "26 Pernambuco           64856891.24  69630712.14  62552189.96  59628674.07   \n",
       "27 Alagoas              15969025.28  17263960.88  15228725.99  15998721.86   \n",
       "28 Sergipe               9230144.57   9605882.99   9160713.54   9193248.73   \n",
       "29 Bahia                68576836.10  74373631.19  67697544.36  70340301.29   \n",
       "31 Minas Gerais        152398599.06 158097903.98 141323175.61 147078556.29   \n",
       "32 Espírito Santo       25163041.42  27533550.66  26542802.84  26555688.68   \n",
       "33 Rio de Janeiro       74895861.63  79705663.75  72412810.42  73594497.93   \n",
       "35 São Paulo           272697695.04 301991167.67 271356784.04 276606288.92   \n",
       "41 Paraná              113545318.91 122268754.10 116061602.52 114476997.52   \n",
       "42 Santa Catarina       58210191.51  64546099.76  59549208.75  56709962.09   \n",
       "43 Rio Grande do Sul    88720873.59  97474362.62  85451646.35  84651396.59   \n",
       "50 Mato Grosso do Sul   17844511.04  18653296.92  17769247.00  17357008.80   \n",
       "51 Mato Grosso          13827706.20  15445693.74  14431171.87  14444207.60   \n",
       "52 Goiás                34050298.55  36312121.02  34158023.81  34558308.52   \n",
       "53 Distrito Federal     19207148.01  20429067.27  18219172.96  19405446.88   \n",
       "\n",
       "                           2020/Abr     2020/Mai     2020/Jun     2020/Jul  \\\n",
       "Unidade da Federação                                                         \n",
       "11 Rondônia              7423678.64   8581195.13   9193593.76   7407388.24   \n",
       "12 Acre                  2472063.08   2383895.48   2199920.70   1163813.08   \n",
       "13 Amazonas             16330913.81  19441150.53  17509334.66  13358514.02   \n",
       "14 Roraima               2304961.42   2910776.44   3216466.51   2739498.41   \n",
       "15 Pará                 28714969.96  41248502.78  35396030.78  27618727.51   \n",
       "16 Amapá                 1774558.12   2701014.87   2699492.23   2155083.37   \n",
       "17 Tocantins             6204453.42   6732370.56   5018138.13   4489665.87   \n",
       "21 Maranhão             23938156.77  32979447.97  31128144.66  24374205.15   \n",
       "22 Piauí                11878587.16  14175053.45  15375523.59  18019214.49   \n",
       "23 Ceará                43468816.62  54200339.48  42146555.81  30809221.22   \n",
       "24 Rio Grande do Norte  17319947.66  19916570.52  20219961.81  19593057.45   \n",
       "25 Paraíba              15386630.89  18970543.57  19666096.87  15491469.06   \n",
       "26 Pernambuco           53843729.23  65424719.40  68145110.59  62325444.34   \n",
       "27 Alagoas              14241361.44  15254204.31  14278872.07  13087850.40   \n",
       "28 Sergipe               8395906.57   8450209.57   6705923.03   3312766.32   \n",
       "29 Bahia                59109689.20  61756775.71  65159300.63  58898100.40   \n",
       "31 Minas Gerais        126330649.86 136867275.75 135977571.87 120467187.34   \n",
       "32 Espírito Santo       23735724.64  28614683.75  27450865.16  27460475.47   \n",
       "33 Rio de Janeiro       68160773.35  86281033.16  77604925.21  71540227.33   \n",
       "35 São Paulo           251696362.66 302857660.98 299060851.62 282709570.31   \n",
       "41 Paraná               96727112.19 106103737.62  92901461.36  80320852.69   \n",
       "42 Santa Catarina       51179993.45  56843604.33  56503747.99  51764534.76   \n",
       "43 Rio Grande do Sul    76294596.96  86076113.42  89019478.82  78929703.81   \n",
       "50 Mato Grosso do Sul   15652772.51  16703851.10  15838659.34  12508717.35   \n",
       "51 Mato Grosso          11943713.53  13981483.29  14585009.42  13083151.70   \n",
       "52 Goiás                27499307.93  31870107.62  34437633.20  33499284.38   \n",
       "53 Distrito Federal     18123899.78  21437430.22  23479773.03  22233542.26   \n",
       "\n",
       "                                Total  \n",
       "Unidade da Federação                   \n",
       "11 Rondônia              929129659.72  \n",
       "12 Acre                  420668039.63  \n",
       "13 Amazonas             1771654871.23  \n",
       "14 Roraima               305010883.18  \n",
       "15 Pará                 4437115730.71  \n",
       "16 Amapá                 291637984.75  \n",
       "17 Tocantins             999998621.85  \n",
       "21 Maranhão             3632860959.84  \n",
       "22 Piauí                2130616492.35  \n",
       "23 Ceará                6197357245.98  \n",
       "24 Rio Grande do Norte  2477372149.60  \n",
       "25 Paraíba              2470550104.25  \n",
       "26 Pernambuco           8046954289.39  \n",
       "27 Alagoas              2104405303.11  \n",
       "28 Sergipe              1130337049.71  \n",
       "29 Bahia                9193802684.16  \n",
       "31 Minas Gerais        19160106499.88  \n",
       "32 Espírito Santo       3139189177.73  \n",
       "33 Rio de Janeiro       9696362872.68  \n",
       "35 São Paulo           38929353900.57  \n",
       "41 Paraná              13786964617.27  \n",
       "42 Santa Catarina       7324100054.96  \n",
       "43 Rio Grande do Sul   11958647088.33  \n",
       "50 Mato Grosso do Sul   2172157981.36  \n",
       "51 Mato Grosso          2036923784.59  \n",
       "52 Goiás                4657348958.66  \n",
       "53 Distrito Federal     2429933198.76  \n",
       "\n",
       "[27 rows x 157 columns]"
      ]
     },
     "execution_count": 28,
     "metadata": {},
     "output_type": "execute_result"
    }
   ],
   "source": [
    "usaveis = usaveis.set_index(\"Unidade da Federação\")\n",
    "usaveis"
   ]
  },
  {
   "cell_type": "code",
   "execution_count": 29,
   "metadata": {
    "colab": {
     "base_uri": "https://localhost:8080/",
     "height": 137
    },
    "id": "ob381_D3lP03",
    "outputId": "9ae117b8-744d-4baa-af2c-5e95b4640e5a"
   },
   "outputs": [
    {
     "data": {
      "text/plain": [
       "Unidade da Federação\n",
       "11 Rondônia    8909111.89\n",
       "12 Acre        2981072.98\n",
       "13 Amazonas   16493719.52\n",
       "14 Roraima     3181321.82\n",
       "15 Pará       36462011.47\n",
       "Name: 2019/Ago, dtype: float64"
      ]
     },
     "execution_count": 29,
     "metadata": {},
     "output_type": "execute_result"
    }
   ],
   "source": [
    "usaveis[\"2019/Ago\"].head()"
   ]
  },
  {
   "cell_type": "code",
   "execution_count": 31,
   "metadata": {
    "colab": {
     "base_uri": "https://localhost:8080/",
     "height": 223
    },
    "id": "2utLBCvslT7G",
    "outputId": "94c80434-e3d3-42b2-be1e-b1e9a2186d17"
   },
   "outputs": [
    {
     "data": {
      "text/plain": [
       "2007/Ago    10470.07\n",
       "2007/Set    14001.71\n",
       "2007/Out    86200.85\n",
       "2007/Nov   301323.68\n",
       "2007/Dez   769612.36\n",
       "Name: 12 Acre, dtype: float64"
      ]
     },
     "execution_count": 31,
     "metadata": {},
     "output_type": "execute_result"
    }
   ],
   "source": [
    "usaveis.loc[\"12 Acre\"].head()"
   ]
  },
  {
   "cell_type": "code",
   "execution_count": null,
   "metadata": {
    "colab": {
     "base_uri": "https://localhost:8080/",
     "height": 1000
    },
    "id": "IxPYJZkJlYLv",
    "outputId": "3ded85fd-fc78-48ae-f75b-a483730193a2"
   },
   "outputs": [],
   "source": [
    "usaveis.plot(figsize=(12,6))"
   ]
  },
  {
   "cell_type": "code",
   "execution_count": 35,
   "metadata": {
    "colab": {
     "base_uri": "https://localhost:8080/",
     "height": 257
    },
    "id": "DnjvQioGlh6W",
    "outputId": "b6a352e3-5bca-4c25-8972-b7fe25eb5453"
   },
   "outputs": [
    {
     "data": {
      "text/html": [
       "<div>\n",
       "<style scoped>\n",
       "    .dataframe tbody tr th:only-of-type {\n",
       "        vertical-align: middle;\n",
       "    }\n",
       "\n",
       "    .dataframe tbody tr th {\n",
       "        vertical-align: top;\n",
       "    }\n",
       "\n",
       "    .dataframe thead th {\n",
       "        text-align: right;\n",
       "    }\n",
       "</style>\n",
       "<table border=\"1\" class=\"dataframe\">\n",
       "  <thead>\n",
       "    <tr style=\"text-align: right;\">\n",
       "      <th></th>\n",
       "      <th>0</th>\n",
       "      <th>1</th>\n",
       "      <th>2</th>\n",
       "      <th>3</th>\n",
       "      <th>4</th>\n",
       "      <th>5</th>\n",
       "      <th>6</th>\n",
       "      <th>7</th>\n",
       "      <th>8</th>\n",
       "      <th>9</th>\n",
       "      <th>...</th>\n",
       "      <th>17</th>\n",
       "      <th>18</th>\n",
       "      <th>19</th>\n",
       "      <th>20</th>\n",
       "      <th>21</th>\n",
       "      <th>22</th>\n",
       "      <th>23</th>\n",
       "      <th>24</th>\n",
       "      <th>25</th>\n",
       "      <th>26</th>\n",
       "    </tr>\n",
       "  </thead>\n",
       "  <tbody>\n",
       "    <tr>\n",
       "      <th>Unidade da Federação</th>\n",
       "      <td>11 Rondônia</td>\n",
       "      <td>12 Acre</td>\n",
       "      <td>13 Amazonas</td>\n",
       "      <td>14 Roraima</td>\n",
       "      <td>15 Pará</td>\n",
       "      <td>16 Amapá</td>\n",
       "      <td>17 Tocantins</td>\n",
       "      <td>21 Maranhão</td>\n",
       "      <td>22 Piauí</td>\n",
       "      <td>23 Ceará</td>\n",
       "      <td>...</td>\n",
       "      <td>32 Espírito Santo</td>\n",
       "      <td>33 Rio de Janeiro</td>\n",
       "      <td>35 São Paulo</td>\n",
       "      <td>41 Paraná</td>\n",
       "      <td>42 Santa Catarina</td>\n",
       "      <td>43 Rio Grande do Sul</td>\n",
       "      <td>50 Mato Grosso do Sul</td>\n",
       "      <td>51 Mato Grosso</td>\n",
       "      <td>52 Goiás</td>\n",
       "      <td>53 Distrito Federal</td>\n",
       "    </tr>\n",
       "    <tr>\n",
       "      <th>2007/Ago</th>\n",
       "      <td>4209.37</td>\n",
       "      <td>10470.07</td>\n",
       "      <td>35752.72</td>\n",
       "      <td>4785.91</td>\n",
       "      <td>181159.29</td>\n",
       "      <td>33672.74</td>\n",
       "      <td>4113.76</td>\n",
       "      <td>385330.18</td>\n",
       "      <td>220788.25</td>\n",
       "      <td>357904.65</td>\n",
       "      <td>...</td>\n",
       "      <td>57408.11</td>\n",
       "      <td>469469.34</td>\n",
       "      <td>1665349.90</td>\n",
       "      <td>554800.22</td>\n",
       "      <td>693955.05</td>\n",
       "      <td>1049252.33</td>\n",
       "      <td>199556.12</td>\n",
       "      <td>63562.50</td>\n",
       "      <td>179395.82</td>\n",
       "      <td>191951.47</td>\n",
       "    </tr>\n",
       "    <tr>\n",
       "      <th>2007/Set</th>\n",
       "      <td>16397.03</td>\n",
       "      <td>14001.71</td>\n",
       "      <td>45570.64</td>\n",
       "      <td>11858.63</td>\n",
       "      <td>433414.74</td>\n",
       "      <td>104822.98</td>\n",
       "      <td>76633.06</td>\n",
       "      <td>1018352.93</td>\n",
       "      <td>353468.67</td>\n",
       "      <td>572356.18</td>\n",
       "      <td>...</td>\n",
       "      <td>284224.80</td>\n",
       "      <td>921646.57</td>\n",
       "      <td>4434168.64</td>\n",
       "      <td>1431708.01</td>\n",
       "      <td>1092964.12</td>\n",
       "      <td>3182913.14</td>\n",
       "      <td>573675.41</td>\n",
       "      <td>232444.62</td>\n",
       "      <td>418053.58</td>\n",
       "      <td>769966.25</td>\n",
       "    </tr>\n",
       "    <tr>\n",
       "      <th>2007/Out</th>\n",
       "      <td>133645.19</td>\n",
       "      <td>86200.85</td>\n",
       "      <td>416012.30</td>\n",
       "      <td>43852.67</td>\n",
       "      <td>1893197.50</td>\n",
       "      <td>118378.28</td>\n",
       "      <td>343702.61</td>\n",
       "      <td>2277717.78</td>\n",
       "      <td>1078182.68</td>\n",
       "      <td>1865065.71</td>\n",
       "      <td>...</td>\n",
       "      <td>1152115.25</td>\n",
       "      <td>2994664.57</td>\n",
       "      <td>14577395.84</td>\n",
       "      <td>4630402.44</td>\n",
       "      <td>3562300.82</td>\n",
       "      <td>8571312.11</td>\n",
       "      <td>1069816.66</td>\n",
       "      <td>927219.59</td>\n",
       "      <td>1198730.25</td>\n",
       "      <td>2165619.56</td>\n",
       "    </tr>\n",
       "    <tr>\n",
       "      <th>2007/Nov</th>\n",
       "      <td>346912.84</td>\n",
       "      <td>301323.68</td>\n",
       "      <td>2020381.79</td>\n",
       "      <td>369328.51</td>\n",
       "      <td>5105406.44</td>\n",
       "      <td>226661.18</td>\n",
       "      <td>1068685.94</td>\n",
       "      <td>4334468.23</td>\n",
       "      <td>2406035.32</td>\n",
       "      <td>5131814.39</td>\n",
       "      <td>...</td>\n",
       "      <td>2296383.23</td>\n",
       "      <td>7250528.08</td>\n",
       "      <td>35032259.98</td>\n",
       "      <td>11120030.79</td>\n",
       "      <td>7578502.38</td>\n",
       "      <td>16592432.80</td>\n",
       "      <td>1995899.52</td>\n",
       "      <td>1740439.60</td>\n",
       "      <td>2712117.54</td>\n",
       "      <td>3813256.48</td>\n",
       "    </tr>\n",
       "  </tbody>\n",
       "</table>\n",
       "<p>5 rows × 27 columns</p>\n",
       "</div>"
      ],
      "text/plain": [
       "                               0         1            2           3   \\\n",
       "Unidade da Federação  11 Rondônia   12 Acre  13 Amazonas  14 Roraima   \n",
       "2007/Ago                  4209.37  10470.07     35752.72     4785.91   \n",
       "2007/Set                 16397.03  14001.71     45570.64    11858.63   \n",
       "2007/Out                133645.19  86200.85    416012.30    43852.67   \n",
       "2007/Nov                346912.84 301323.68   2020381.79   369328.51   \n",
       "\n",
       "                             4         5             6            7   \\\n",
       "Unidade da Federação    15 Pará  16 Amapá  17 Tocantins  21 Maranhão   \n",
       "2007/Ago              181159.29  33672.74       4113.76    385330.18   \n",
       "2007/Set              433414.74 104822.98      76633.06   1018352.93   \n",
       "2007/Out             1893197.50 118378.28     343702.61   2277717.78   \n",
       "2007/Nov             5105406.44 226661.18    1068685.94   4334468.23   \n",
       "\n",
       "                             8          9   ...                 17  \\\n",
       "Unidade da Federação   22 Piauí   23 Ceará  ...  32 Espírito Santo   \n",
       "2007/Ago              220788.25  357904.65  ...           57408.11   \n",
       "2007/Set              353468.67  572356.18  ...          284224.80   \n",
       "2007/Out             1078182.68 1865065.71  ...         1152115.25   \n",
       "2007/Nov             2406035.32 5131814.39  ...         2296383.23   \n",
       "\n",
       "                                     18            19          20  \\\n",
       "Unidade da Federação  33 Rio de Janeiro  35 São Paulo   41 Paraná   \n",
       "2007/Ago                      469469.34    1665349.90   554800.22   \n",
       "2007/Set                      921646.57    4434168.64  1431708.01   \n",
       "2007/Out                     2994664.57   14577395.84  4630402.44   \n",
       "2007/Nov                     7250528.08   35032259.98 11120030.79   \n",
       "\n",
       "                                     21                    22  \\\n",
       "Unidade da Federação  42 Santa Catarina  43 Rio Grande do Sul   \n",
       "2007/Ago                      693955.05            1049252.33   \n",
       "2007/Set                     1092964.12            3182913.14   \n",
       "2007/Out                     3562300.82            8571312.11   \n",
       "2007/Nov                     7578502.38           16592432.80   \n",
       "\n",
       "                                         23              24         25  \\\n",
       "Unidade da Federação  50 Mato Grosso do Sul  51 Mato Grosso   52 Goiás   \n",
       "2007/Ago                          199556.12        63562.50  179395.82   \n",
       "2007/Set                          573675.41       232444.62  418053.58   \n",
       "2007/Out                         1069816.66       927219.59 1198730.25   \n",
       "2007/Nov                         1995899.52      1740439.60 2712117.54   \n",
       "\n",
       "                                       26  \n",
       "Unidade da Federação  53 Distrito Federal  \n",
       "2007/Ago                        191951.47  \n",
       "2007/Set                        769966.25  \n",
       "2007/Out                       2165619.56  \n",
       "2007/Nov                       3813256.48  \n",
       "\n",
       "[5 rows x 27 columns]"
      ]
     },
     "execution_count": 35,
     "metadata": {},
     "output_type": "execute_result"
    }
   ],
   "source": [
    "usaveis.T.head()"
   ]
  },
  {
   "cell_type": "code",
   "execution_count": null,
   "metadata": {
    "colab": {
     "base_uri": "https://localhost:8080/",
     "height": 257
    },
    "id": "xiAqC3Kal3QL",
    "outputId": "01b65b46-1f13-48b9-e20c-68e6491d6328"
   },
   "outputs": [],
   "source": [
    "usaveis.T.tail()"
   ]
  },
  {
   "cell_type": "code",
   "execution_count": null,
   "metadata": {
    "colab": {
     "base_uri": "https://localhost:8080/",
     "height": 488
    },
    "id": "i8SoYXktlqiP",
    "outputId": "88e447d2-25a5-49e5-e19b-20d6ea74f62e"
   },
   "outputs": [],
   "source": [
    "usaveis.T.plot(figsize=(10,6))"
   ]
  },
  {
   "cell_type": "code",
   "execution_count": null,
   "metadata": {
    "colab": {
     "base_uri": "https://localhost:8080/",
     "height": 368
    },
    "id": "60ncKDAFlwMg",
    "outputId": "c84ed212-9d55-44a7-f85f-c4eff10de6b9"
   },
   "outputs": [],
   "source": [
    "usaveis = usaveis.drop(\"Total\", axis=1)\n",
    "usaveis.head()"
   ]
  },
  {
   "cell_type": "code",
   "execution_count": null,
   "metadata": {
    "colab": {
     "base_uri": "https://localhost:8080/",
     "height": 488
    },
    "id": "1sdKdQNLl7AY",
    "outputId": "aed1f8cf-2e17-4d51-e05a-991cc4d43c17"
   },
   "outputs": [],
   "source": [
    "usaveis.T.plot(figsize=(10,6))"
   ]
  },
  {
   "cell_type": "markdown",
   "metadata": {
    "id": "nTJo783FmPda"
   },
   "source": [
    "# Desafio: reposicionar a legenda. Dentro? Fora? Onde?"
   ]
  },
  {
   "cell_type": "markdown",
   "metadata": {
    "id": "5JWcg20gr399"
   },
   "source": [
    "# Desafio: mudar palete de cores com o matplotlib"
   ]
  },
  {
   "cell_type": "code",
   "execution_count": null,
   "metadata": {
    "colab": {
     "base_uri": "https://localhost:8080/",
     "height": 368
    },
    "id": "ux0qG3bMtGaW",
    "outputId": "e37f0802-33ea-40ca-b102-94887972ad24"
   },
   "outputs": [],
   "source": [
    "usaveis.head()"
   ]
  },
  {
   "cell_type": "code",
   "execution_count": null,
   "metadata": {
    "colab": {
     "base_uri": "https://localhost:8080/",
     "height": 154
    },
    "id": "aojbqgyEmFUP",
    "outputId": "9b14da32-b1af-46bb-b4e6-803bc6cbce8b"
   },
   "outputs": [],
   "source": [
    "usaveis.T.columns"
   ]
  },
  {
   "cell_type": "code",
   "execution_count": null,
   "metadata": {
    "colab": {
     "base_uri": "https://localhost:8080/",
     "height": 34
    },
    "id": "DgCfrqQYsWou",
    "outputId": "a1f2bccb-66b5-4215-eb8c-767606cfa29d"
   },
   "outputs": [],
   "source": [
    "usaveis.T.columns[:5]"
   ]
  },
  {
   "cell_type": "code",
   "execution_count": null,
   "metadata": {
    "colab": {
     "base_uri": "https://localhost:8080/",
     "height": 34
    },
    "id": "8Jl_3JNCsqnA",
    "outputId": "b1f20c29-e176-4f7f-bb91-b5843ce21188"
   },
   "outputs": [],
   "source": [
    "usaveis.index[:5]"
   ]
  },
  {
   "cell_type": "code",
   "execution_count": null,
   "metadata": {
    "colab": {
     "base_uri": "https://localhost:8080/",
     "height": 368
    },
    "id": "XT5VhskPtVeI",
    "outputId": "b5ebcde8-21ac-4876-d894-a9d4ac51f837"
   },
   "outputs": [],
   "source": [
    "usaveis[:5]"
   ]
  },
  {
   "cell_type": "code",
   "execution_count": null,
   "metadata": {
    "colab": {
     "base_uri": "https://localhost:8080/",
     "height": 402
    },
    "id": "vg_BQF4Zs34F",
    "outputId": "57c69e17-4b6f-4669-d695-b47f2ec0d719"
   },
   "outputs": [],
   "source": [
    "usaveis[:7].T.plot(figsize=(10,6))"
   ]
  },
  {
   "cell_type": "code",
   "execution_count": null,
   "metadata": {
    "colab": {
     "base_uri": "https://localhost:8080/",
     "height": 516
    },
    "id": "zHL54gWTtlJM",
    "outputId": "cad32762-6252-4823-aafb-dbbf120e5f75"
   },
   "outputs": [],
   "source": [
    "import numpy as np\n",
    "np.random.seed(687942)\n",
    "\n",
    "usaveis.sample(n=7)"
   ]
  },
  {
   "cell_type": "code",
   "execution_count": null,
   "metadata": {
    "colab": {
     "base_uri": "https://localhost:8080/",
     "height": 482
    },
    "id": "8-VEpaCyumL1",
    "outputId": "42139d0f-2127-4c0d-84fa-978b93d99356"
   },
   "outputs": [],
   "source": [
    "usaveis.sample(7)"
   ]
  },
  {
   "cell_type": "code",
   "execution_count": null,
   "metadata": {
    "id": "-0Ofu9BTu3uV"
   },
   "outputs": [],
   "source": [
    "# ideia de como funciona aleatoriedade\n",
    "# pseudo randomness\n",
    "\n",
    "# seed = 6987\n",
    "# random = seed / 10, seed = seed * 2 /3\n",
    "\n",
    "\n",
    "# random ===> 698...... (seed=4658)\n",
    "# random ==> 465 (seed = 310)\n",
    "# random ==> 31\n"
   ]
  },
  {
   "cell_type": "markdown",
   "metadata": {
    "id": "Mnf7vpEhvoi3"
   },
   "source": [
    "# Desafio: adicionar uma coluna mostrando a região de cada estado"
   ]
  },
  {
   "cell_type": "code",
   "execution_count": null,
   "metadata": {
    "colab": {
     "base_uri": "https://localhost:8080/",
     "height": 368
    },
    "id": "HSMLahftvLLl",
    "outputId": "ea62cab9-c457-4076-eb1f-46d16a0f6386"
   },
   "outputs": [],
   "source": [
    "usaveis[\"Total\"] = usaveis.sum(axis=1) # [0,1,2] [\"SP\"]\n",
    "usaveis.head()"
   ]
  },
  {
   "cell_type": "code",
   "execution_count": null,
   "metadata": {
    "colab": {
     "base_uri": "https://localhost:8080/",
     "height": 403
    },
    "id": "MIWAh5QXvzT9",
    "outputId": "95cef4da-27a1-4995-e8e1-f1f44e6305f4"
   },
   "outputs": [],
   "source": [
    "ordenado_por_total = usaveis.sort_values(\"Total\", ascending=False)\n",
    "ordenado_por_total = ordenado_por_total.drop(\"Total\", axis=1)\n",
    "ordenado_por_total.head()"
   ]
  },
  {
   "cell_type": "markdown",
   "metadata": {
    "id": "jXfrNl9HxrlU"
   },
   "source": [
    "# Desafio: deixar o gráfico mais bonito. A mensagem mais clara."
   ]
  },
  {
   "cell_type": "code",
   "execution_count": null,
   "metadata": {
    "colab": {
     "base_uri": "https://localhost:8080/",
     "height": 402
    },
    "id": "uhW9GBJkxFST",
    "outputId": "a2972fb7-38fa-4266-b101-a84f7c5a9595"
   },
   "outputs": [],
   "source": [
    "ordenado_por_total.head(5).T.plot(figsize=(10,6))"
   ]
  },
  {
   "cell_type": "markdown",
   "metadata": {
    "id": "ftqarypJxxdw"
   },
   "source": [
    "#Desafio: adicione seu estado aos 5 estados existentes e plote"
   ]
  },
  {
   "cell_type": "code",
   "execution_count": null,
   "metadata": {
    "id": "kibPpNcexc1w"
   },
   "outputs": [],
   "source": [
    "colunas_interessadas = ordenado_por_total.columns[6:]\n",
    "ordenado_por_total = ordenado_por_total[colunas_interessadas]"
   ]
  },
  {
   "cell_type": "code",
   "execution_count": null,
   "metadata": {
    "colab": {
     "base_uri": "https://localhost:8080/",
     "height": 402
    },
    "id": "VpWr0aGZ0Kz3",
    "outputId": "03c21b61-81f5-406a-be10-8540d772fa3a"
   },
   "outputs": [],
   "source": [
    "ordenado_por_total.head(5).T.plot(figsize=(10,6))"
   ]
  },
  {
   "cell_type": "markdown",
   "metadata": {
    "id": "bt1098ux1Jf_"
   },
   "source": [
    "# Desafio: googlar os casos de dengue no Brasil e se reflete nos gastos"
   ]
  },
  {
   "cell_type": "markdown",
   "metadata": {
    "id": "cvvXvh881NYO"
   },
   "source": [
    "#Desafio: plotar só os estados do sudeste e ver se afetou com um pico em 2012/2013 de forma similar esses estados"
   ]
  },
  {
   "cell_type": "markdown",
   "metadata": {
    "id": "CU8ZCgZK1hNI"
   },
   "source": [
    "#Desafio: adicionar seu estado escolhido novamente e deixe o gráfico informativo com suas informações claras"
   ]
  },
  {
   "cell_type": "code",
   "execution_count": null,
   "metadata": {
    "colab": {
     "base_uri": "https://localhost:8080/",
     "height": 391
    },
    "id": "PmOA6aty1ez4",
    "outputId": "d201f1b7-f225-4f82-8a92-0b643c08974e"
   },
   "outputs": [],
   "source": [
    "ordenado_por_total = ordenado_por_total / 1000000\n",
    "ordenado_por_total.head(5).T.plot(figsize=(10,6))"
   ]
  },
  {
   "cell_type": "code",
   "execution_count": null,
   "metadata": {
    "colab": {
     "base_uri": "https://localhost:8080/",
     "height": 391
    },
    "id": "O6fwQNvK0iBf",
    "outputId": "be2abb6c-390c-4381-da5b-24d571f045c3"
   },
   "outputs": [],
   "source": [
    "meses_filtrados = ordenado_por_total.columns[47:150]\n",
    "ordenado_por_total[meses_filtrados].head(3).T.plot(figsize=(10,6))"
   ]
  },
  {
   "cell_type": "code",
   "execution_count": null,
   "metadata": {
    "colab": {
     "base_uri": "https://localhost:8080/",
     "height": 395
    },
    "id": "zA4Csoy52mXk",
    "outputId": "8dbca7cb-653c-4f86-d818-9793e9ce507e"
   },
   "outputs": [],
   "source": [
    "ordenado_por_total[meses_filtrados].head(3).T.plot(figsize=(10,6))\n",
    "plt.ylim(0, 350)"
   ]
  },
  {
   "cell_type": "code",
   "execution_count": null,
   "metadata": {
    "colab": {
     "base_uri": "https://localhost:8080/",
     "height": 395
    },
    "id": "rESypOfT3A3P",
    "outputId": "d76a0861-4858-4578-d409-bdbf5a17bdcd"
   },
   "outputs": [],
   "source": [
    "ordenado_por_total[meses_filtrados].head(3).T.plot(figsize=(10,6))\n",
    "plt.ylim(100, 350)"
   ]
  },
  {
   "cell_type": "code",
   "execution_count": null,
   "metadata": {
    "colab": {
     "base_uri": "https://localhost:8080/",
     "height": 395
    },
    "id": "U3i3R8rm3kYl",
    "outputId": "06db780c-d3f8-4b13-8b34-138db40a8223"
   },
   "outputs": [],
   "source": [
    "ordenado_por_total[ordenado_por_total.columns[-12:]].head(3).T.plot(figsize=(10,6))\n",
    "plt.ylim(0, 350)"
   ]
  },
  {
   "cell_type": "code",
   "execution_count": null,
   "metadata": {
    "colab": {
     "base_uri": "https://localhost:8080/",
     "height": 395
    },
    "id": "IFf5FeS24dO1",
    "outputId": "17bbf3b8-9aed-4045-87ed-59ff0e34a886"
   },
   "outputs": [],
   "source": [
    "ordenado_por_total[ordenado_por_total.columns[-24:]].head(3).T.plot(figsize=(10,6))\n",
    "plt.ylim(0, 350)"
   ]
  },
  {
   "cell_type": "code",
   "execution_count": null,
   "metadata": {
    "colab": {
     "base_uri": "https://localhost:8080/",
     "height": 395
    },
    "id": "gs8_RPuq4hhX",
    "outputId": "b50c0e2f-315e-46c3-ccc8-281643616b08"
   },
   "outputs": [],
   "source": [
    "ordenado_por_total[ordenado_por_total.columns[-36:]].head(3).T.plot(figsize=(10,6))\n",
    "plt.ylim(0, 350)"
   ]
  },
  {
   "cell_type": "code",
   "execution_count": null,
   "metadata": {
    "colab": {
     "base_uri": "https://localhost:8080/",
     "height": 395
    },
    "id": "GFyySl2k4jd9",
    "outputId": "7cc80813-5768-4d19-fc0e-3ac1992623a9"
   },
   "outputs": [],
   "source": [
    "ordenado_por_total[ordenado_por_total.columns[-60:]].head(3).T.plot(figsize=(10,6))\n",
    "plt.ylim(0, 350)"
   ]
  },
  {
   "cell_type": "code",
   "execution_count": null,
   "metadata": {
    "colab": {
     "base_uri": "https://localhost:8080/",
     "height": 391
    },
    "id": "x9SYG4uE4meG",
    "outputId": "107952ca-d889-4e10-faec-17527fafeb13"
   },
   "outputs": [],
   "source": [
    "ordenado_por_total.head(5).T.plot(figsize=(10,6))"
   ]
  },
  {
   "cell_type": "code",
   "execution_count": null,
   "metadata": {
    "colab": {
     "base_uri": "https://localhost:8080/",
     "height": 391
    },
    "id": "Funz3HdJ5GZl",
    "outputId": "a2762842-b52f-4766-9a8a-ab2d8fc23649"
   },
   "outputs": [],
   "source": [
    "ordenado_por_total.head(5).T.plot(figsize=(6,6))"
   ]
  },
  {
   "cell_type": "code",
   "execution_count": null,
   "metadata": {
    "colab": {
     "base_uri": "https://localhost:8080/",
     "height": 335
    },
    "id": "r_eHRMhL5IXv",
    "outputId": "1fae5b53-621c-426e-80bf-0df9b04541f8"
   },
   "outputs": [],
   "source": [
    "ordenado_por_total.head(5).T.plot(figsize=(20,6))"
   ]
  },
  {
   "cell_type": "code",
   "execution_count": null,
   "metadata": {
    "colab": {
     "base_uri": "https://localhost:8080/",
     "height": 35
    },
    "id": "4CDEFSyz5Pm1",
    "outputId": "632f1e00-fead-4e98-cc37-c6a9a08653fd"
   },
   "outputs": [],
   "source": [
    "mes_mais_recente = ordenado_por_total.columns[-1]\n",
    "mes_mais_recente"
   ]
  },
  {
   "cell_type": "code",
   "execution_count": null,
   "metadata": {
    "colab": {
     "base_uri": "https://localhost:8080/",
     "height": 137
    },
    "id": "WLb58UgB67To",
    "outputId": "d688acb4-d623-40f4-a1b5-470b35fee6f2"
   },
   "outputs": [],
   "source": [
    "gastos_do_mais_recente = ordenado_por_total[mes_mais_recente]\n",
    "gastos_do_mais_recente.head()"
   ]
  },
  {
   "cell_type": "code",
   "execution_count": null,
   "metadata": {
    "colab": {
     "base_uri": "https://localhost:8080/",
     "height": 296
    },
    "id": "G5KInoh477DQ",
    "outputId": "db138b3f-353a-49bc-fdc0-3a2377a90123"
   },
   "outputs": [],
   "source": [
    "gastos_do_mais_recente.plot()"
   ]
  },
  {
   "cell_type": "code",
   "execution_count": null,
   "metadata": {
    "colab": {
     "base_uri": "https://localhost:8080/",
     "height": 265
    },
    "id": "F_P2IwR-8A3k",
    "outputId": "e3712bdb-7300-4ca3-d825-7cb118b314dd"
   },
   "outputs": [],
   "source": [
    "gastos_do_mais_recente.plot(kind='pie')"
   ]
  },
  {
   "cell_type": "markdown",
   "metadata": {
    "id": "EgoOAazU8XTe"
   },
   "source": [
    "Horrores da pizza atual:\n",
    "\n",
    "- legenda está horrível\n",
    "- número de fatias inacreditável\n",
    "\n",
    "Já estamos com uma vantagem:\n",
    "- o gráfico veio ordenado"
   ]
  },
  {
   "cell_type": "code",
   "execution_count": null,
   "metadata": {
    "colab": {
     "base_uri": "https://localhost:8080/",
     "height": 265
    },
    "id": "JcOq3ZRl8LB8",
    "outputId": "f97655cd-2fd6-46ce-a753-76f77ea82229"
   },
   "outputs": [],
   "source": [
    "gastos_do_mais_recente.sample(frac=1).plot(kind='pie')"
   ]
  },
  {
   "cell_type": "markdown",
   "metadata": {
    "id": "8_YTLtv99DEW"
   },
   "source": [
    "Horrores da pizza atual:\n",
    "\n",
    "- legenda está horrível\n",
    "- número de fatias inacreditável\n",
    "- não dá para saber a ordem\n",
    "- cores repetidas\n",
    "- muito ruim para definir ordem\n",
    "- péssimo para COMPARAR"
   ]
  },
  {
   "cell_type": "code",
   "execution_count": null,
   "metadata": {
    "colab": {
     "base_uri": "https://localhost:8080/",
     "height": 514
    },
    "id": "YeElLSN28348",
    "outputId": "9b78385b-618a-40a8-a7ac-8358dc9e1dc9"
   },
   "outputs": [],
   "source": [
    "# visualização simples pra valor absoluto\n",
    "\n",
    "gastos_do_mais_recente"
   ]
  },
  {
   "cell_type": "code",
   "execution_count": null,
   "metadata": {
    "colab": {
     "base_uri": "https://localhost:8080/",
     "height": 514
    },
    "id": "2Ck9JmW99f1_",
    "outputId": "d879a0f2-843f-44b5-91f1-ec3af78a3ae2"
   },
   "outputs": [],
   "source": [
    "gastos_do_mais_recente / gastos_do_mais_recente.loc[\"33 Rio de Janeiro\"]"
   ]
  },
  {
   "cell_type": "markdown",
   "metadata": {
    "id": "K9FkDdPd-QeG"
   },
   "source": [
    "# Criar a tabela de comparação com o seu estado (ou estado de preferência)\n",
    "\n"
   ]
  },
  {
   "cell_type": "code",
   "execution_count": null,
   "metadata": {
    "colab": {
     "base_uri": "https://localhost:8080/",
     "height": 137
    },
    "id": "iVOciEgR-QHT",
    "outputId": "6557b007-e5c2-473a-b972-e98b2e121d11"
   },
   "outputs": [],
   "source": [
    "(gastos_do_mais_recente / gastos_do_mais_recente.loc[\"33 Rio de Janeiro\"]).head(5)"
   ]
  },
  {
   "cell_type": "code",
   "execution_count": null,
   "metadata": {
    "colab": {
     "base_uri": "https://localhost:8080/",
     "height": 404
    },
    "id": "mzYXlb4c-EFG",
    "outputId": "36e54e53-cb30-423b-893d-4dce8e9f05b6"
   },
   "outputs": [],
   "source": [
    "gastos_do_mais_recente.plot(kind='bar')"
   ]
  },
  {
   "cell_type": "code",
   "execution_count": null,
   "metadata": {
    "colab": {
     "base_uri": "https://localhost:8080/",
     "height": 404
    },
    "id": "5AeCbmly-7if",
    "outputId": "cdc6c481-5882-4710-9168-cd155580d37e"
   },
   "outputs": [],
   "source": [
    "gastos_do_mais_recente = gastos_do_mais_recente.sort_values(ascending=False)\n",
    "gastos_do_mais_recente.plot(kind='bar')"
   ]
  },
  {
   "cell_type": "markdown",
   "metadata": {
    "id": "2_-lLhRy-sjc"
   },
   "source": [
    "# Desafio: documentação do matplotlib e pandas para colocar grid no gráfico"
   ]
  },
  {
   "cell_type": "markdown",
   "metadata": {
    "id": "rJjh7JMg_dnH"
   },
   "source": [
    "# Desafio: gráfico de barra do gasto dos outros estados em função ao seu estado"
   ]
  },
  {
   "cell_type": "markdown",
   "metadata": {
    "id": "0XLv4tU1AD9r"
   },
   "source": [
    "# Desafio: gasto por população de dois estados. escolha dois estados. gráfico de barras."
   ]
  },
  {
   "cell_type": "markdown",
   "metadata": {
    "id": "-IaaT8H5AQSl"
   },
   "source": [
    "# Desafio: Explore e levante hipóteses e perguntas."
   ]
  },
  {
   "cell_type": "markdown",
   "metadata": {
    "id": "zJf2R_CIBHQB"
   },
   "source": [
    "# Super desafio: Escolha outro valor fora Valor Aprovado no TABNET e explore."
   ]
  },
  {
   "cell_type": "code",
   "execution_count": null,
   "metadata": {
    "colab": {
     "base_uri": "https://localhost:8080/",
     "height": 404
    },
    "id": "7sj2L3i--oCO",
    "outputId": "889929d1-3e69-452d-91b9-cc193b6488fe"
   },
   "outputs": [],
   "source": [
    "gastos_do_mais_recente = gastos_do_mais_recente.sort_values(ascending=False)\n",
    "gastos_do_mais_recente.plot(kind='bar')"
   ]
  },
  {
   "cell_type": "code",
   "execution_count": null,
   "metadata": {
    "colab": {
     "base_uri": "https://localhost:8080/",
     "height": 404
    },
    "id": "j9F0AHxEB3AD",
    "outputId": "664cefbd-a2e6-4438-e02b-cc2804cf1d17"
   },
   "outputs": [],
   "source": [
    "gastos_proporcionais = gastos_do_mais_recente / gastos_do_mais_recente.sum()\n",
    "gastos_proporcionais.plot(kind='bar')"
   ]
  },
  {
   "cell_type": "code",
   "execution_count": null,
   "metadata": {
    "colab": {
     "base_uri": "https://localhost:8080/",
     "height": 237
    },
    "id": "nhOqlT8MB43R",
    "outputId": "c724ac3c-58cb-490a-f7db-111d29784c7a"
   },
   "outputs": [],
   "source": [
    "ibge_estimativa = pd.read_excel(\"https://github.com/alura-cursos/agendamento-hospitalar/raw/main/dados/estimativa_dou_2020.xls\")\n",
    "ibge_estimativa.head()"
   ]
  },
  {
   "cell_type": "code",
   "execution_count": null,
   "metadata": {
    "id": "ywsmdh4lDcO8"
   },
   "outputs": [],
   "source": [
    "dados_da_populacao = \"\"\"Posição\tUnidade federativa\tPopulação\t% da pop. total\tPaís comparável\n",
    "(habitantes)\n",
    "\n",
    "1\t São Paulo\t46 289 333\t21,9%\tFlag of Spain.svg Espanha (46 439 864)\n",
    "2\t Minas Gerais\t21 292 666\t10,1%\t Sri Lanka (20 675 000)\n",
    "3\t Rio de Janeiro\t17 366 189\t8,2%\t Países Baixos (16 922 900)\n",
    "4\tBahia Bahia\t14 930 634\t7,1%\t Chade (14 037 000)\n",
    "5\t Paraná\t11 516 840\t5,4%\t Bolívia (11 410 651)\n",
    "6\t Rio Grande do Sul\t11 422 973\t5,4%\t Bélgica (11 250 659)\n",
    "7\t Pernambuco\t9 616 621\t4,5%\t Bielorrússia (9 485 300)\n",
    "8\t Ceará\t9 187 103\t4,3%\t Emirados Árabes Unidos (9 157 000)\n",
    "9\tPará Pará\t8 690 745\t4,1%\t Áustria (8 602 112)\n",
    "10\t Santa Catarina\t7 252 502\t3,4%\t Sérvia (7 114 393)\n",
    "11\t Maranhão\t7 114 598\t3,4%\t Paraguai (7 003 406)\n",
    "12\t Goiás\t7 113 540\t3,4%\t Paraguai (7 003 406)\n",
    "13\t Amazonas\t4 207 714\t2,0%\t Líbano (4 168 000)\n",
    "14\t Espírito Santo\t4 064 052\t1,9%\t Líbano (4 168 000)\n",
    "15\t Paraíba\t4 039 277\t1,9%\t Líbano (4 168 000)\n",
    "16\t Rio Grande do Norte\t3 534 165\t1,7%\t Uruguai (3 415 866)\n",
    "17\t Mato Grosso\t3 526 220\t1,7%\t Uruguai (3 415 866)\n",
    "18\t Alagoas\t3 351 543\t1,6%\t Uruguai (3 415 866)\n",
    "19\t Piauí\t3 281 480\t1,6%\t Kuwait (3 268 431)\n",
    "20\t Distrito Federal\t3 055 149\t1,4%\t Lituânia (2 900 787)\n",
    "21\t Mato Grosso do Sul\t2 809 394\t1,3%\t Jamaica (2 717 991)\n",
    "22\t Sergipe\t2 318 822\t1,1%\t Namíbia (2 280 700)\n",
    "23\t Rondônia\t1 796 460\t0,8%\t Gabão (1 725 000)\n",
    "24\t Tocantins\t1 590 248\t0,7%\t Bahrein (1 359 800)\n",
    "25\t Acre\t894 470\t0,4%\t Fiji (859 178)\n",
    "26\t Amapá\t861 773\t0,4%\t Fiji (859 178)\n",
    "27\t Roraima\t631 181\t0,3%\t Luxemburgo (562 958)\"\"\"\n",
    "\n",
    "# fonte: https://pt.wikipedia.org/wiki/Lista_de_unidades_federativas_do_Brasil_por_popula%C3%A7%C3%A3o#cite_note-IBGE_POP-1"
   ]
  },
  {
   "cell_type": "code",
   "execution_count": null,
   "metadata": {
    "colab": {
     "base_uri": "https://localhost:8080/",
     "height": 912
    },
    "id": "eifgd0t5EHN3",
    "outputId": "712b5d58-8fb3-4857-df45-287e92806b7e"
   },
   "outputs": [],
   "source": [
    "from io import StringIO\n",
    "\n",
    "dados_da_populacao_io = StringIO(dados_da_populacao)\n",
    "\n",
    "pd.read_csv(dados_da_populacao_io, sep=\"\\t\")"
   ]
  },
  {
   "cell_type": "markdown",
   "metadata": {
    "id": "f8RMcGAgFJCf"
   },
   "source": [
    "# Desafio: ler esse arquivo direto do wikipedia (html)."
   ]
  },
  {
   "cell_type": "code",
   "execution_count": null,
   "metadata": {
    "id": "BnW2O-quETPw"
   },
   "outputs": [],
   "source": []
  }
 ],
 "metadata": {
  "colab": {
   "collapsed_sections": [],
   "name": "Bootcamp Data Science Hospitalar - 1",
   "provenance": []
  },
  "kernelspec": {
   "display_name": "Python 3",
   "language": "python",
   "name": "python3"
  },
  "language_info": {
   "codemirror_mode": {
    "name": "ipython",
    "version": 3
   },
   "file_extension": ".py",
   "mimetype": "text/x-python",
   "name": "python",
   "nbconvert_exporter": "python",
   "pygments_lexer": "ipython3",
   "version": "3.8.3"
  }
 },
 "nbformat": 4,
 "nbformat_minor": 1
}
